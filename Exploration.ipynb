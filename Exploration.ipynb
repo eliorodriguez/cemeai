{
 "cells": [
  {
   "cell_type": "code",
   "execution_count": 4,
   "metadata": {},
   "outputs": [],
   "source": [
    "extra_stop_words = ['a', 'aaa', 'ab', 'aba', 'abc', 'abl', 'abo', 'abr', 'ac', 'acc', 'ace', 'acl', 'acm', 'aco', 'acp', 'acr', 'act', 'acu', 'ad', 'ada', 'add', 'ade', 'adm', 'adu', 'adv', 'ae', 'aer', 'af', 'afi', 'afp', 'afr', 'afx', 'ag', 'agt', 'agu', 'ah', 'aim', 'air', 'aju', 'ak', 'al', 'alc', 'alf', 'all', 'alm', 'alt', 'alç', 'am', 'ama', 'amc', 'aml', 'amp', 'amx', 'an', 'ana', 'anc', 'and', 'ang', 'anh', 'anl', 'ant', 'anu', 'aoa', 'aor', 'aox', 'ap', 'apc', 'apd', 'apl', 'apo', 'apr', 'aqw', 'ar', 'arc', 'ard', 'ari', 'arm', 'art', 'asa', 'asb', 'asd', 'ash', 'asp', 'asr', 'ass', 'asy', 'at', 'atb', 'ate', 'atl', 'atm', 'atp', 'atr', 'atw', 'au', 'aug', 'aui', 'aut', 'av', 'avg', 'ax', 'axi', 'axl', 'axs', 'az', 'azu', 'aç', 'aça', 'açn', 'aço', 'açã', 'aór', 'b', 'ba', 'baa', 'bac', 'bag', 'bah', 'bal', 'ban', 'bar', 'bas', 'bat', 'baç', 'bb', 'bc', 'bcc', 'bcd', 'bcl', 'bco', 'bcp', 'bcr', 'bec', 'beg', 'ber', 'bet', 'bfh', 'bgc', 'bh', 'bhc', 'bhx', 'bi', 'bib', 'bic', 'bif', 'bio', 'bip', 'bit', 'bk', 'bl', 'blt', 'blu', 'bm', 'bmw', 'bo', 'boc', 'bol', 'bon', 'bot', 'bow', 'box', 'bp', 'bpn', 'bpx', 'br', 'brd', 'bri', 'brk', 'bro', 'bs', 'bsc', 'bss', 'bt', 'btb', 'bu', 'buc', 'bud', 'bul', 'bur', 'but', 'bx', 'bxr', 'by', 'bíf', 'c', 'ca', 'caa', 'cab', 'cad', 'caf', 'cag', 'cal', 'cam', 'can', 'cap', 'car', 'cat', 'cav', 'cb', 'cba', 'cc', 'ccd', 'cck', 'ccv', 'ccx', 'cd', 'cdh', 'cdi', 'ce', 'cec', 'cem', 'cer', 'ceu', 'cf', 'cfn', 'cg', 'ch', 'chx', 'ci', 'cia', 'cif', 'cil', 'cim', 'cir', 'cis', 'civ', 'cj', 'cl', 'clb', 'cle', 'clo', 'clw', 'cm', 'cma', 'cmm', 'cmv', 'cmw', 'cmx', 'cn', 'cnf', 'cnt', 'co', 'cob', 'coc', 'cod', 'coe', 'col', 'con', 'cop', 'cor', 'cot', 'cov', 'cox', 'cp', 'cpg', 'cpm', 'cpr', 'cpt', 'cpx', 'cqr', 'cr', 'cra', 'crc', 'crd', 'cre', 'cro', 'crt', 'cs', 'csc', 'csf', 'csh', 'csj', 'csl', 'ct', 'cta', 'cto', 'ctr', 'cub', 'cud', 'cui', 'cun', 'cup', 'cur', 'cut', 'cv', 'cvc', 'cvd', 'cx', 'cxl', 'câm', 'd', 'dac', 'dav', 'db', 'dbc', 'dbl', 'dc', 'dci', 'dcm', 'dcp', 'dcr', 'dd', 'ddt', 'ded', 'def', 'deg', 'dem', 'dev', 'dex', 'df', 'dfn', 'dfx', 'dg', 'dgr', 'dh', 'dhf', 'dhh', 'dhp', 'dhs', 'di', 'dil', 'din', 'dip', 'dir', 'diu', 'dj', 'dl', 'dle', 'dlp', 'dlt', 'dm', 'dmc', 'dmi', 'dn', 'dob', 'dog', 'doi', 'dok', 'dom', 'dor', 'dou', 'doz', 'dp', 'dpl', 'dpm', 'dpr', 'dpz', 'dr', 'dra', 'drc', 'drg', 'dri', 'drr', 'drt', 'dry', 'ds', 'dst', 'dt', 'dtc', 'dtt', 'dua', 'duf', 'duo', 'dup', 'dur', 'dv', 'dve', 'dvi', 'dvp', 'dvt', 'dx', 'dxt', 'dy', 'e', 'ea', 'eas', 'ebu', 'ec', 'ech', 'ecl', 'ecm', 'eco', 'ecr', 'ed', 'ee', 'eea', 'eef', 'eeg', 'ef', 'eg', 'egg', 'eix', 'el', 'ell', 'elu', 'elv', 'emb', 'emg', 'emp', 'emx', 'en', 'ena', 'enc', 'end', 'eng', 'enn', 'ent', 'env', 'enz', 'eo', 'eon', 'eop', 'ep', 'epi', 'ept', 'epw', 'er', 'es', 'esc', 'esf', 'esi', 'esl', 'esp', 'esq', 'ess', 'est', 'et', 'etc', 'etd', 'euc', 'eur', 'ev', 'evo', 'ex', 'exc', 'exl', 'exp', 'ext', 'ez', 'f', 'fa', 'fac', 'fad', 'fas', 'fb', 'fbm', 'fc', 'fcl', 'fd', 'fem', 'fen', 'fer', 'fes', 'ff', 'ffx', 'fg', 'fge', 'fh', 'fho', 'fi', 'fib', 'fig', 'fij', 'fil', 'fin', 'fio', 'fir', 'fis', 'fit', 'fiv', 'fix', 'fl', 'flo', 'flu', 'flx', 'fm', 'fmr', 'fo', 'foc', 'fon', 'fp', 'fpc', 'fpl', 'fr', 'fre', 'fri', 'frl', 'frr', 'frx', 'fs', 'fsr', 'ft', 'ftm', 'fur', 'fus', 'fx', 'fxx', 'g', 'ga', 'gac', 'gag', 'gam', 'gap', 'gat', 'gav', 'gax', 'gaz', 'gb', 'gc', 'gcf', 'gd', 'gdc', 'gde', 'ge', 'gei', 'gel', 'gen', 'ger', 'gf', 'gg', 'gh', 'gia', 'gib', 'gid', 'gii', 'giu', 'gm', 'gmi', 'gmv', 'go', 'gor', 'got', 'gp', 'gpi', 'gr', 'grd', 'grf', 'gru', 'grx', 'grã', 'gs', 'gsn', 'gsp', 'gst', 'gt', 'gtr', 'gu', 'gua', 'gui', 'gun', 'gw', 'gx', 'h', 'ha', 'hal', 'han', 'hap', 'hat', 'hb', 'hba', 'hbd', 'hbf', 'hbu', 'hc', 'hcp', 'hd', 'hdc', 'he', 'hea', 'hel', 'hem', 'hep', 'hex', 'hf', 'hft', 'hg', 'hh', 'hi', 'hif', 'hil', 'hip', 'hiu', 'hkv', 'hl', 'hm', 'hn', 'hnb', 'hol', 'hor', 'hot', 'hp', 'hph', 'hpu', 'hq', 'hr', 'hrc', 'hrl', 'hs', 'hsc', 'hsf', 'hsg', 'ht', 'htc', 'htd', 'hti', 'hto', 'htt', 'hub', 'hvr', 'hw', 'hx', 'hy', 'i', 'iab', 'iaf', 'iam', 'ib', 'ibi', 'ibo', 'ic', 'icd', 'ice', 'ico', 'icv', 'icw', 'id', 'idc', 'idx', 'if', 'iff', 'ig', 'ii', 'iii', 'il', 'ile', 'ilh', 'ili', 'im', 'ima', 'imf', 'imp', 'imã', 'in', 'inc', 'inf', 'ink', 'inn', 'int', 'io', 'iob', 'iod', 'iol', 'ion', 'iot', 'ip', 'ipa', 'ipc', 'ira', 'is', 'ish', 'iss', 'it', 'itp', 'iue', 'iv', 'iva', 'iz', 'izd', 'izq', 'j', 'ja', 'jac', 'jaw', 'jb', 'jcd', 'jet', 'jh', 'jim', 'jj', 'jl', 'jlc', 'jog', 'jok', 'jot', 'jov', 'jp', 'jr', 'jsn', 'jx', 'k', 'kdv', 'ke', 'key', 'kff', 'kg', 'khz', 'ki', 'kid', 'kii', 'kit', 'kk', 'km', 'kmp', 'kne', 'koh', 'l', 'la', 'lab', 'lac', 'lad', 'lag', 'lam', 'lap', 'lar', 'las', 'lat', 'lav', 'lay', 'laç', 'lb', 'lbt', 'lc', 'lca', 'lcb', 'lcc', 'lcd', 'lcp', 'lcr', 'ld', 'ldr', 'ldv', 'le', 'led', 'leg', 'len', 'leo', 'les', 'lev', 'lf', 'lg', 'lga', 'lgn', 'lgo', 'li', 'lib', 'lif', 'lig', 'lil', 'lim', 'lin', 'lis', 'lit', 'll', 'lll', 'lm', 'lmp', 'lnr', 'loc', 'loj', 'lok', 'lon', 'lot', 'low', 'lox', 'lp', 'lpa', 'lpc', 'lpt', 'lr', 'lrg', 'ls', 'lse', 'lsp', 'lt', 'ltd', 'ltx', 'lu', 'lua', 'luc', 'lug', 'lum', 'lun', 'lup', 'luv', 'lux', 'luz', 'lv', 'lwl', 'lx', 'lyo', 'm', 'ma', 'mac', 'mag', 'mai', 'maj', 'mak', 'mam', 'man', 'mao', 'maq', 'mat', 'mav', 'max', 'may', 'mb', 'mba', 'mbv', 'mc', 'mca', 'mcc', 'mcd', 'md', 'mdc', 'mdt', 'mec', 'med', 'mef', 'meg', 'mei', 'mem', 'men', 'mep', 'mer', 'mes', 'met', 'mf', 'mg', 'mgb', 'mh', 'mhc', 'mhp', 'mhz', 'mi', 'mia', 'mic', 'mid', 'mii', 'mik', 'min', 'mio', 'mip', 'mis', 'mit', 'mk', 'ml', 'mlp', 'mlt', 'mlx', 'mm', 'mma', 'mmf', 'mmi', 'mmm', 'mmp', 'mmx', 'mo', 'mod', 'mol', 'mom', 'mon', 'mor', 'mov', 'mp', 'mpa', 'mpc', 'mpd', 'mpj', 'mpk', 'mr', 'mri', 'ms', 'msb', 'msc', 'msp', 'mst', 'mt', 'mtp', 'mtr', 'mu', 'muc', 'mur', 'mus', 'mut', 'mv', 'mw', 'mwc', 'mx', 'mxl', 'myr', 'máx', 'mão', 'méd', 'n', 'nan', 'nao', 'nav', 'nc', 'ncn', 'ncr', 'ne', 'neo', 'net', 'new', 'ng', 'nge', 'nih', 'nim', 'nit', 'nk', 'nn', 'nnn', 'nom', 'non', 'nov', 'npa', 'nph', 'npp', 'nr', 'nrg', 'ns', 'nsk', 'nsp', 'nt', 'nu', 'nur', 'nv', 'nvm', 'nw', 'nxt', 'nâo', 'o', 'ob', 'obl', 'obr', 'oc', 'oca', 'ocm', 'oct', 'ocx', 'od', 'oec', 'of', 'off', 'ofr', 'oge', 'ol', 'olh', 'oli', 'oly', 'omn', 'omo', 'on', 'ond', 'one', 'oo', 'ook', 'op', 'ope', 'oph', 'opm', 'opt', 'opu', 'orb', 'org', 'oro', 'ort', 'osc', 'osg', 'oss', 'osv', 'ot', 'otn', 'otw', 'our', 'out', 'ouv', 'ov', 'owl', 'ox', 'oxm', 'oxu', 'p', 'pa', 'pac', 'pad', 'pam', 'par', 'pas', 'pat', 'pav', 'pb', 'pba', 'pc', 'pca', 'pcd', 'pck', 'pcl', 'pcm', 'pct', 'pd', 'pda', 'pdo', 'pdr', 'pdt', 'pe', 'pec', 'ped', 'peg', 'pel', 'pen', 'peq', 'per', 'pes', 'pet', 'peç', 'pf', 'pfc', 'pfe', 'pfi', 'pfm', 'pfn', 'pfo', 'pg', 'pgl', 'ph', 'pho', 'php', 'phr', 'phs', 'pia', 'pic', 'pig', 'pik', 'pil', 'pim', 'pin', 'pis', 'piv', 'pk', 'pkg', 'pl', 'pla', 'plg', 'pll', 'plm', 'plt', 'plu', 'pm', 'pmg', 'pmm', 'pmp', 'pn', 'po', 'pod', 'pol', 'pos', 'pow', 'pox', 'pp', 'pph', 'pq', 'pr', 'pra', 'prc', 'pre', 'prm', 'pro', 'prt', 'pré', 'ps', 'pse', 'psi', 'psl', 'pso', 'psu', 'pt', 'pta', 'ptc', 'ptd', 'pte', 'ptf', 'ptg', 'pto', 'ptp', 'ptq', 'ptr', 'pu', 'pul', 'pur', 'pux', 'pv', 'pva', 'pvc', 'pvm', 'pvp', 'pw', 'px', 'pxl', 'pç', 'pé', 'pêr', 'pó', 'q', 'qa', 'qc', 'qid', 'ql', 'qmt', 'qp', 'qt', 'qu', 'r', 'ra', 'rab', 'rad', 'rae', 'rai', 'ram', 'rap', 'rar', 'ray', 'raz', 'rb', 'rba', 'rbc', 'rbe', 'rc', 'rcb', 'rcf', 'rct', 'rd', 'rdc', 'rdi', 're', 'reb', 'rec', 'red', 'ref', 'reg', 'rem', 'rep', 'ret', 'rev', 'rex', 'rf', 'rfg', 'rfk', 'rfp', 'rh', 'rhk', 'rhv', 'ria', 'rib', 'rig', 'rim', 'rio', 'rip', 'rit', 'rj', 'rjg', 'rl', 'rm', 'rmv', 'rn', 'rnd', 'ro', 'roc', 'rod', 'rof', 'roi', 'rol', 'ros', 'rot', 'row', 'rox', 'rp', 'rpc', 'rpf', 'rs', 'rsc', 'rt', 'rtk', 'rtu', 'rtx', 'ruc', 'rum', 'run', 'ruu', 'rv', 'rx', 'rxd', 'rz', 'rât', 'ríg', 's', 'sa', 'sab', 'sac', 'saf', 'sag', 'sam', 'sao', 'sap', 'sat', 'sav', 'sc', 'sch', 'sck', 'scm', 'scp', 'scu', 'scw', 'sd', 'sdc', 'sde', 'sdm', 'sdn', 'sdq', 'sec', 'sed', 'sef', 'seg', 'sel', 'sen', 'sep', 'set', 'sf', 'sfs', 'sfx', 'sg', 'sgl', 'sgr', 'sgw', 'sh', 'sha', 'she', 'shk', 'shl', 'shn', 'si', 'sib', 'sid', 'sil', 'sio', 'sit', 'siu', 'siz', 'sj', 'sjm', 'sk', 'sky', 'sl', 'slt', 'sm', 'smr', 'smx', 'sn', 'snt', 'so', 'sof', 'sol', 'som', 'son', 'sor', 'sp', 'sph', 'spn', 'spv', 'sr', 'srm', 'srr', 'srt', 'ss', 'sst', 'st', 'stb', 'stc', 'std', 'ste', 'stk', 'stp', 'str', 'stt', 'stx', 'su', 'sub', 'sug', 'sul', 'sup', 'sur', 'sv', 'sw', 'sx', 'sy', 'sz', 'sép', 't', 'ta', 'taa', 'tab', 'tac', 'tag', 'tak', 'tam', 'tan', 'tap', 'tav', 'taw', 'tax', 'tb', 'tbc', 'tbe', 'tbr', 'tc', 'tcd', 'tch', 'tcp', 'tcr', 'tcx', 'td', 'tec', 'ted', 'tef', 'tel', 'ten', 'tep', 'tet', 'tew', 'tex', 'tf', 'tfc', 'tfe', 'tfn', 'tfx', 'tgf', 'th', 'the', 'thi', 'thr', 'ti', 'tib', 'tic', 'tig', 'tim', 'tip', 'tir', 'tis', 'tit', 'tkm', 'tl', 'tlc', 'tlp', 'tm', 'tmj', 'tml', 'tmr', 'tmw', 'to', 'tod', 'toe', 'top', 'tor', 'tot', 'tp', 'tpd', 'tpl', 'tr', 'tra', 'trc', 'tre', 'tri', 'trt', 'tru', 'trê', 'ts', 'tsx', 'tt', 'ttl', 'tub', 'tud', 'tug', 'tus', 'tvt', 'tw', 'two', 'tx', 'tyl', 'typ', 'tíb', 'u', 'ua', 'ucd', 'ud', 'ufn', 'uhl', 'uhp', 'ujp', 'ul', 'ulc', 'uln', 'ult', 'umx', 'un', 'unh', 'uni', 'uno', 'unv', 'up', 'ur', 'uro', 'urs', 'us', 'use', 'usg', 'uso', 'usp', 'ut', 'uti', 'v', 'va', 'vac', 'vag', 'val', 'vap', 'var', 'vas', 'vbr', 'vbt', 'vc', 'vci', 'vd', 'vdr', 'vdu', 've', 'ved', 'veg', 'vei', 'vej', 'vel', 'ven', 'vfc', 'vi', 'via', 'vic', 'vid', 'vii', 'vip', 'vis', 'vit', 'viv', 'vk', 'vkm', 'vl', 'vm', 'vn', 'vnu', 'vo', 'vol', 'vp', 'vq', 'vr', 'vrf', 'vrt', 'vs', 'vsd', 'vt', 'vtk', 'vtp', 'vu', 'vue', 'vv', 'vxt', 'vy', 'w', 'wat', 'wav', 'way', 'web', 'wed', 'weg', 'wid', 'win', 'wir', 'wl', 'ws', 'wsc', 'wsp', 'ww', 'wx', 'x', 'xb', 'xc', 'xcm', 'xf', 'xg', 'xia', 'xjl', 'xl', 'xli', 'xmm', 'xo', 'xol', 'xp', 'xr', 'xs', 'xsh', 'xt', 'xta', 'xtb', 'xtr', 'xu', 'xx', 'xxl', 'y', 'yag', 'yod', 'z', 'zca', 'zct', 'zdc', 'zed', 'zel', 'zen', 'zer', 'zeu', 'zip', 'ziv', 'zmr', 'znn', 'zo', 'zp', 'zr', 'zs', 'zti', 'zuk', '×', 'â', 'ânc', 'ø', 'úlc', 'únc']"
   ]
  },
  {
   "cell_type": "code",
   "execution_count": null,
   "metadata": {},
   "outputs": [],
   "source": []
  },
  {
   "cell_type": "code",
   "execution_count": 5,
   "metadata": {},
   "outputs": [],
   "source": [
    "import pandas as pd\n",
    "import spacy\n",
    "import re\n",
    "import scipy\n",
    "spacy_nlp = spacy.load('pt')\n",
    "spacy_stopwords = spacy.lang.pt.STOP_WORDS"
   ]
  },
  {
   "cell_type": "code",
   "execution_count": 6,
   "metadata": {},
   "outputs": [],
   "source": [
    "for e in extra_stop_words:\n",
    "    spacy_stopwords.add(e)"
   ]
  },
  {
   "cell_type": "code",
   "execution_count": 8,
   "metadata": {},
   "outputs": [],
   "source": [
    "#len(spacy_stopwords)"
   ]
  },
  {
   "cell_type": "code",
   "execution_count": 9,
   "metadata": {},
   "outputs": [],
   "source": [
    "import warnings\n",
    "warnings.filterwarnings('ignore')"
   ]
  },
  {
   "cell_type": "code",
   "execution_count": 10,
   "metadata": {},
   "outputs": [],
   "source": [
    "import numpy as np\n",
    "import sys\n",
    "np.set_printoptions(threshold=sys.maxsize)"
   ]
  },
  {
   "cell_type": "code",
   "execution_count": 11,
   "metadata": {},
   "outputs": [],
   "source": [
    "from nltk import word_tokenize          \n",
    "from nltk.stem import WordNetLemmatizer\n",
    "from nltk.stem import RSLPStemmer\n",
    "#>>>st = RSLPStemmer()\n",
    "class LemmaTokenizer(object):\n",
    "    def __init__(self):\n",
    "        self.wnl = RSLPStemmer()\n",
    "    def __call__(self, doc):\n",
    "        return [self.wnl.stem(t) for t in word_tokenize(doc)]"
   ]
  },
  {
   "cell_type": "code",
   "execution_count": 12,
   "metadata": {},
   "outputs": [
    {
     "name": "stdout",
     "output_type": "stream",
     "text": [
      "[nltk_data] Downloading package rslp to /home/elio/nltk_data...\n",
      "[nltk_data]   Package rslp is already up-to-date!\n"
     ]
    },
    {
     "data": {
      "text/plain": [
       "True"
      ]
     },
     "execution_count": 12,
     "metadata": {},
     "output_type": "execute_result"
    }
   ],
   "source": [
    "import nltk\n",
    "nltk.download('rslp')"
   ]
  },
  {
   "cell_type": "code",
   "execution_count": 13,
   "metadata": {},
   "outputs": [],
   "source": [
    "data = pd.read_csv(\"dataset_bionexo.csv\",encoding='latin')\n"
   ]
  },
  {
   "cell_type": "code",
   "execution_count": 14,
   "metadata": {},
   "outputs": [
    {
     "data": {
      "text/html": [
       "<div>\n",
       "<style scoped>\n",
       "    .dataframe tbody tr th:only-of-type {\n",
       "        vertical-align: middle;\n",
       "    }\n",
       "\n",
       "    .dataframe tbody tr th {\n",
       "        vertical-align: top;\n",
       "    }\n",
       "\n",
       "    .dataframe thead th {\n",
       "        text-align: right;\n",
       "    }\n",
       "</style>\n",
       "<table border=\"1\" class=\"dataframe\">\n",
       "  <thead>\n",
       "    <tr style=\"text-align: right;\">\n",
       "      <th></th>\n",
       "      <th>ID_PDC</th>\n",
       "      <th>ESPECIALIDADE</th>\n",
       "      <th>PROCEDIMENTO_PRINCIPAL</th>\n",
       "      <th>DESCRICAO_DO_PRODUTO</th>\n",
       "      <th>ANVISA</th>\n",
       "      <th>MARCA</th>\n",
       "      <th>REFERENCIA</th>\n",
       "      <th>PRECO</th>\n",
       "      <th>ANVISA_DEF</th>\n",
       "      <th>GMDN_TERMO</th>\n",
       "    </tr>\n",
       "  </thead>\n",
       "  <tbody>\n",
       "    <tr>\n",
       "      <th>0</th>\n",
       "      <td>174274</td>\n",
       "      <td>SISTEMA GENITAL E REPRODUTOR FEMININO</td>\n",
       "      <td>HISTERECTOMIA TOTAL LAPAROSCOPICA COM ANEXECTO...</td>\n",
       "      <td>MANIPULADOR UTERINO CLEARVIEW 7CM</td>\n",
       "      <td>80517980053</td>\n",
       "      <td>CLINICAL INNOVATIONS</td>\n",
       "      <td>UM700</td>\n",
       "      <td>9625</td>\n",
       "      <td>-</td>\n",
       "      <td>uterine manipulator, single-use</td>\n",
       "    </tr>\n",
       "    <tr>\n",
       "      <th>1</th>\n",
       "      <td>176721</td>\n",
       "      <td>SISTEMA MUSCULO-ESQUELETICO E ARTICULAÇÕES</td>\n",
       "      <td>LESÃO  AGUDA DE LIGAMENTO COLATERAL DO JOELHO ...</td>\n",
       "      <td>ENXERTO OSSEO EM BLOCO 6 CC 2 X 3 CC ATTRAX PUTTY</td>\n",
       "      <td>80074640024</td>\n",
       "      <td>NUVASIVE</td>\n",
       "      <td>5018006</td>\n",
       "      <td>6875</td>\n",
       "      <td>attrax putty nuvasive nuvasive inc</td>\n",
       "      <td>bone matrix implant, synthetic</td>\n",
       "    </tr>\n",
       "    <tr>\n",
       "      <th>2</th>\n",
       "      <td>181909</td>\n",
       "      <td>METODOS DIAGNOSTICOS POR IMAGEM</td>\n",
       "      <td>EMBOLIZAÇÃO DE ANEURISMA CEREBRAL POR OCLUSÃO ...</td>\n",
       "      <td>INTRODUTOR 6F 12CM ULTIMUM</td>\n",
       "      <td>10332340107</td>\n",
       "      <td>ST JUDE</td>\n",
       "      <td>407694</td>\n",
       "      <td>1375</td>\n",
       "      <td>-</td>\n",
       "      <td>vascular catheter introduction set</td>\n",
       "    </tr>\n",
       "    <tr>\n",
       "      <th>3</th>\n",
       "      <td>183381</td>\n",
       "      <td>SISTEMA DIGESTIVO E ANEXOS</td>\n",
       "      <td>PANCREATO-DUODENECTOMIA COM LINFADENECTOMIA [ ...</td>\n",
       "      <td>PINÇA LIGA SURE 5MM</td>\n",
       "      <td>10349000188</td>\n",
       "      <td>VALLEYLAB</td>\n",
       "      <td>LS1500</td>\n",
       "      <td>33687.5</td>\n",
       "      <td>-</td>\n",
       "      <td>-</td>\n",
       "    </tr>\n",
       "    <tr>\n",
       "      <th>4</th>\n",
       "      <td>183381</td>\n",
       "      <td>SISTEMA DIGESTIVO E ANEXOS</td>\n",
       "      <td>PANCREATO-DUODENECTOMIA COM LINFADENECTOMIA [ ...</td>\n",
       "      <td>TROCATER DESCARTAVEL 12.5X100MM</td>\n",
       "      <td>80082910071</td>\n",
       "      <td>HANGZHOU KANGJI MEDI</td>\n",
       "      <td>101Y524</td>\n",
       "      <td>2062.5</td>\n",
       "      <td>trocarter descartavel hangzhou kangji medical ...</td>\n",
       "      <td>-</td>\n",
       "    </tr>\n",
       "  </tbody>\n",
       "</table>\n",
       "</div>"
      ],
      "text/plain": [
       "   ID_PDC                               ESPECIALIDADE  \\\n",
       "0  174274       SISTEMA GENITAL E REPRODUTOR FEMININO   \n",
       "1  176721  SISTEMA MUSCULO-ESQUELETICO E ARTICULAÇÕES   \n",
       "2  181909             METODOS DIAGNOSTICOS POR IMAGEM   \n",
       "3  183381                  SISTEMA DIGESTIVO E ANEXOS   \n",
       "4  183381                  SISTEMA DIGESTIVO E ANEXOS   \n",
       "\n",
       "                              PROCEDIMENTO_PRINCIPAL  \\\n",
       "0  HISTERECTOMIA TOTAL LAPAROSCOPICA COM ANEXECTO...   \n",
       "1  LESÃO  AGUDA DE LIGAMENTO COLATERAL DO JOELHO ...   \n",
       "2  EMBOLIZAÇÃO DE ANEURISMA CEREBRAL POR OCLUSÃO ...   \n",
       "3  PANCREATO-DUODENECTOMIA COM LINFADENECTOMIA [ ...   \n",
       "4  PANCREATO-DUODENECTOMIA COM LINFADENECTOMIA [ ...   \n",
       "\n",
       "                                DESCRICAO_DO_PRODUTO       ANVISA  \\\n",
       "0                  MANIPULADOR UTERINO CLEARVIEW 7CM  80517980053   \n",
       "1  ENXERTO OSSEO EM BLOCO 6 CC 2 X 3 CC ATTRAX PUTTY  80074640024   \n",
       "2                         INTRODUTOR 6F 12CM ULTIMUM  10332340107   \n",
       "3                                PINÇA LIGA SURE 5MM  10349000188   \n",
       "4                    TROCATER DESCARTAVEL 12.5X100MM  80082910071   \n",
       "\n",
       "                  MARCA REFERENCIA    PRECO  \\\n",
       "0  CLINICAL INNOVATIONS      UM700     9625   \n",
       "1              NUVASIVE    5018006     6875   \n",
       "2               ST JUDE     407694     1375   \n",
       "3             VALLEYLAB     LS1500  33687.5   \n",
       "4  HANGZHOU KANGJI MEDI    101Y524   2062.5   \n",
       "\n",
       "                                          ANVISA_DEF  \\\n",
       "0                                                  -   \n",
       "1                 attrax putty nuvasive nuvasive inc   \n",
       "2                                                  -   \n",
       "3                                                  -   \n",
       "4  trocarter descartavel hangzhou kangji medical ...   \n",
       "\n",
       "                           GMDN_TERMO  \n",
       "0     uterine manipulator, single-use  \n",
       "1      bone matrix implant, synthetic  \n",
       "2  vascular catheter introduction set  \n",
       "3                                   -  \n",
       "4                                   -  "
      ]
     },
     "execution_count": 14,
     "metadata": {},
     "output_type": "execute_result"
    }
   ],
   "source": [
    "data.head()"
   ]
  },
  {
   "cell_type": "code",
   "execution_count": 15,
   "metadata": {},
   "outputs": [
    {
     "data": {
      "text/plain": [
       "(674719, 10)"
      ]
     },
     "execution_count": 15,
     "metadata": {},
     "output_type": "execute_result"
    }
   ],
   "source": [
    "data.shape"
   ]
  },
  {
   "cell_type": "markdown",
   "metadata": {},
   "source": [
    "### Data with GMDM"
   ]
  },
  {
   "cell_type": "code",
   "execution_count": 16,
   "metadata": {},
   "outputs": [],
   "source": [
    "#filter_data = data[(data[\"GMDN_TERMO\"].notnull()) & (data[\"GMDN_TERMO\"] != \"-\")]"
   ]
  },
  {
   "cell_type": "code",
   "execution_count": 17,
   "metadata": {},
   "outputs": [],
   "source": [
    "filter_data = pd.read_csv(\"bionexo_preprocessed+-.csv\",encoding='utf-8')"
   ]
  },
  {
   "cell_type": "code",
   "execution_count": 18,
   "metadata": {},
   "outputs": [
    {
     "data": {
      "text/html": [
       "<div>\n",
       "<style scoped>\n",
       "    .dataframe tbody tr th:only-of-type {\n",
       "        vertical-align: middle;\n",
       "    }\n",
       "\n",
       "    .dataframe tbody tr th {\n",
       "        vertical-align: top;\n",
       "    }\n",
       "\n",
       "    .dataframe thead th {\n",
       "        text-align: right;\n",
       "    }\n",
       "</style>\n",
       "<table border=\"1\" class=\"dataframe\">\n",
       "  <thead>\n",
       "    <tr style=\"text-align: right;\">\n",
       "      <th></th>\n",
       "      <th>ID_PDC</th>\n",
       "      <th>descricao</th>\n",
       "      <th>GMDN_TERMO</th>\n",
       "    </tr>\n",
       "  </thead>\n",
       "  <tbody>\n",
       "    <tr>\n",
       "      <th>0</th>\n",
       "      <td>174274</td>\n",
       "      <td>HISTERECTOMIA TOTAL LAPAROSCOPICA COM ANEXECTO...</td>\n",
       "      <td>uterine manipulator, single-use</td>\n",
       "    </tr>\n",
       "    <tr>\n",
       "      <th>1</th>\n",
       "      <td>176721</td>\n",
       "      <td>LESÃO  AGUDA DE LIGAMENTO COLATERAL DO JOELHO ...</td>\n",
       "      <td>bone matrix implant, synthetic</td>\n",
       "    </tr>\n",
       "    <tr>\n",
       "      <th>2</th>\n",
       "      <td>181909</td>\n",
       "      <td>EMBOLIZAÇÃO DE ANEURISMA CEREBRAL POR OCLUSÃO ...</td>\n",
       "      <td>vascular catheter introduction set</td>\n",
       "    </tr>\n",
       "    <tr>\n",
       "      <th>3</th>\n",
       "      <td>183381</td>\n",
       "      <td>PANCREATO-DUODENECTOMIA COM LINFADENECTOMIA [ ...</td>\n",
       "      <td>-</td>\n",
       "    </tr>\n",
       "    <tr>\n",
       "      <th>4</th>\n",
       "      <td>183381</td>\n",
       "      <td>PANCREATO-DUODENECTOMIA COM LINFADENECTOMIA [ ...</td>\n",
       "      <td>-</td>\n",
       "    </tr>\n",
       "  </tbody>\n",
       "</table>\n",
       "</div>"
      ],
      "text/plain": [
       "   ID_PDC                                          descricao  \\\n",
       "0  174274  HISTERECTOMIA TOTAL LAPAROSCOPICA COM ANEXECTO...   \n",
       "1  176721  LESÃO  AGUDA DE LIGAMENTO COLATERAL DO JOELHO ...   \n",
       "2  181909  EMBOLIZAÇÃO DE ANEURISMA CEREBRAL POR OCLUSÃO ...   \n",
       "3  183381  PANCREATO-DUODENECTOMIA COM LINFADENECTOMIA [ ...   \n",
       "4  183381  PANCREATO-DUODENECTOMIA COM LINFADENECTOMIA [ ...   \n",
       "\n",
       "                           GMDN_TERMO  \n",
       "0     uterine manipulator, single-use  \n",
       "1      bone matrix implant, synthetic  \n",
       "2  vascular catheter introduction set  \n",
       "3                                   -  \n",
       "4                                   -  "
      ]
     },
     "execution_count": 18,
     "metadata": {},
     "output_type": "execute_result"
    }
   ],
   "source": [
    "filter_data.head()"
   ]
  },
  {
   "cell_type": "code",
   "execution_count": 19,
   "metadata": {},
   "outputs": [
    {
     "data": {
      "text/plain": [
       "'EMBOLIZAÇÃO DE ANEURISMA CEREBRAL POR OCLUSÃO SACULAR - POR VASO [ METODOS INTERVENCIONISTAS / TERAPEUTICOS POR IMAGEM ] INTRODUTOR 6F 12CM ULTIMUM'"
      ]
     },
     "execution_count": 19,
     "metadata": {},
     "output_type": "execute_result"
    }
   ],
   "source": [
    "filter_data.loc[2,\"descricao\"]"
   ]
  },
  {
   "cell_type": "code",
   "execution_count": 20,
   "metadata": {},
   "outputs": [],
   "source": [
    "filter_data[\"cat\"] = filter_data[\"GMDN_TERMO\"].astype(\"category\")\n",
    "filter_data[\"cat\"] = filter_data[\"cat\"].cat.codes"
   ]
  },
  {
   "cell_type": "code",
   "execution_count": 21,
   "metadata": {},
   "outputs": [],
   "source": [
    "#filter_data[\"PROCEDIMENTO_PRINCIPAL\"] = filter_data[\"PROCEDIMENTO_PRINCIPAL\"].apply(lambda x: re.sub(\"[^A-Za-z']+\",' ', x) )\n",
    "#filter_data[\"DESCRICAO_DO_PRODUTO\"] = filter_data[\"DESCRICAO_DO_PRODUTO\"].apply(lambda x : re.sub(\"[^A-Za-z']+\",' ',x) )\n",
    "#filter_data[\"ANVISA_DEF\"] = filter_data[\"ANVISA_DEF\"].apply(lambda x : re.sub(\"[^A-Za-z']+\",' ',x) )\n",
    "filter_data[\"descricao\"] = filter_data[\"descricao\"].apply(lambda x : re.sub(\"[^a-zA-ZÀ-ú']+\",' ',x) )\n"
   ]
  },
  {
   "cell_type": "code",
   "execution_count": 22,
   "metadata": {},
   "outputs": [
    {
     "data": {
      "text/plain": [
       "(201182, 4)"
      ]
     },
     "execution_count": 22,
     "metadata": {},
     "output_type": "execute_result"
    }
   ],
   "source": [
    "filter_data.shape"
   ]
  },
  {
   "cell_type": "code",
   "execution_count": 23,
   "metadata": {},
   "outputs": [
    {
     "data": {
      "text/html": [
       "<div>\n",
       "<style scoped>\n",
       "    .dataframe tbody tr th:only-of-type {\n",
       "        vertical-align: middle;\n",
       "    }\n",
       "\n",
       "    .dataframe tbody tr th {\n",
       "        vertical-align: top;\n",
       "    }\n",
       "\n",
       "    .dataframe thead th {\n",
       "        text-align: right;\n",
       "    }\n",
       "</style>\n",
       "<table border=\"1\" class=\"dataframe\">\n",
       "  <thead>\n",
       "    <tr style=\"text-align: right;\">\n",
       "      <th></th>\n",
       "      <th>ID_PDC</th>\n",
       "      <th>descricao</th>\n",
       "      <th>GMDN_TERMO</th>\n",
       "      <th>cat</th>\n",
       "    </tr>\n",
       "  </thead>\n",
       "  <tbody>\n",
       "    <tr>\n",
       "      <th>0</th>\n",
       "      <td>174274</td>\n",
       "      <td>HISTERECTOMIA TOTAL LAPAROSCOPICA COM ANEXECTO...</td>\n",
       "      <td>uterine manipulator, single-use</td>\n",
       "      <td>314</td>\n",
       "    </tr>\n",
       "    <tr>\n",
       "      <th>1</th>\n",
       "      <td>176721</td>\n",
       "      <td>LESÃO AGUDA DE LIGAMENTO COLATERAL DO JOELHO T...</td>\n",
       "      <td>bone matrix implant, synthetic</td>\n",
       "      <td>35</td>\n",
       "    </tr>\n",
       "    <tr>\n",
       "      <th>2</th>\n",
       "      <td>181909</td>\n",
       "      <td>EMBOLIZAÇÃO DE ANEURISMA CEREBRAL POR OCLUSÃO ...</td>\n",
       "      <td>vascular catheter introduction set</td>\n",
       "      <td>315</td>\n",
       "    </tr>\n",
       "    <tr>\n",
       "      <th>3</th>\n",
       "      <td>183381</td>\n",
       "      <td>PANCREATO DUODENECTOMIA COM LINFADENECTOMIA PA...</td>\n",
       "      <td>-</td>\n",
       "      <td>0</td>\n",
       "    </tr>\n",
       "    <tr>\n",
       "      <th>4</th>\n",
       "      <td>183381</td>\n",
       "      <td>PANCREATO DUODENECTOMIA COM LINFADENECTOMIA PA...</td>\n",
       "      <td>-</td>\n",
       "      <td>0</td>\n",
       "    </tr>\n",
       "  </tbody>\n",
       "</table>\n",
       "</div>"
      ],
      "text/plain": [
       "   ID_PDC                                          descricao  \\\n",
       "0  174274  HISTERECTOMIA TOTAL LAPAROSCOPICA COM ANEXECTO...   \n",
       "1  176721  LESÃO AGUDA DE LIGAMENTO COLATERAL DO JOELHO T...   \n",
       "2  181909  EMBOLIZAÇÃO DE ANEURISMA CEREBRAL POR OCLUSÃO ...   \n",
       "3  183381  PANCREATO DUODENECTOMIA COM LINFADENECTOMIA PA...   \n",
       "4  183381  PANCREATO DUODENECTOMIA COM LINFADENECTOMIA PA...   \n",
       "\n",
       "                           GMDN_TERMO  cat  \n",
       "0     uterine manipulator, single-use  314  \n",
       "1      bone matrix implant, synthetic   35  \n",
       "2  vascular catheter introduction set  315  \n",
       "3                                   -    0  \n",
       "4                                   -    0  "
      ]
     },
     "execution_count": 23,
     "metadata": {},
     "output_type": "execute_result"
    }
   ],
   "source": [
    "filter_data.head()"
   ]
  },
  {
   "cell_type": "code",
   "execution_count": 24,
   "metadata": {},
   "outputs": [],
   "source": [
    "#filter_data[filter_data[\"GMDN_TERMO\"] == \"-\"]"
   ]
  },
  {
   "cell_type": "code",
   "execution_count": 25,
   "metadata": {},
   "outputs": [
    {
     "data": {
      "text/plain": [
       "'EMBOLIZAÇÃO DE ANEURISMA CEREBRAL POR OCLUSÃO SACULAR POR VASO METODOS INTERVENCIONISTAS TERAPEUTICOS POR IMAGEM INTRODUTOR F CM ULTIMUM'"
      ]
     },
     "execution_count": 25,
     "metadata": {},
     "output_type": "execute_result"
    }
   ],
   "source": [
    "filter_data.loc[2,\"descricao\"]"
   ]
  },
  {
   "cell_type": "code",
   "execution_count": 26,
   "metadata": {},
   "outputs": [],
   "source": [
    "#corpus = filter_data[\"PROCEDIMENTO_PRINCIPAL\"]\n",
    "#filename = \"PROCEDIMENTO_PRINCIPAL\"\n",
    "#corpus = filter_data[\"DESCRICAO_DO_PRODUTO\"]\n",
    "#filename = \"PROC_DESCRICAO_DO_PRODUTO\"\n",
    "#corpus = filter_data[\"PROCEDIMENTO_PRINCIPAL\"] + \" \" + filter_data[\"DESCRICAO_DO_PRODUTO\"]\n",
    "#corpus = filter_data[\"ANVISA_DEF\"]\n",
    "#filename = \"ANVISA_DEF\"\n",
    "#corpus = filter_data[\"PROCEDIMENTO_PRINCIPAL\"] + \" \" + filter_data[\"DESCRICAO_DO_PRODUTO\"]+ \" \" + filter_data[\"ANVISA_DEF\"]\n",
    "#filename = \"ALL\"\n",
    "\n",
    "corpus = filter_data[\"descricao\"]\n",
    "filename = \"PROC_DESCRICAO_DO_PRODUTO\"\n"
   ]
  },
  {
   "cell_type": "code",
   "execution_count": null,
   "metadata": {},
   "outputs": [],
   "source": []
  },
  {
   "cell_type": "code",
   "execution_count": null,
   "metadata": {},
   "outputs": [],
   "source": []
  },
  {
   "cell_type": "code",
   "execution_count": 27,
   "metadata": {},
   "outputs": [
    {
     "data": {
      "text/plain": [
       "0    HISTERECTOMIA TOTAL LAPAROSCOPICA COM ANEXECTO...\n",
       "1    LESÃO AGUDA DE LIGAMENTO COLATERAL DO JOELHO T...\n",
       "2    EMBOLIZAÇÃO DE ANEURISMA CEREBRAL POR OCLUSÃO ...\n",
       "3    PANCREATO DUODENECTOMIA COM LINFADENECTOMIA PA...\n",
       "4    PANCREATO DUODENECTOMIA COM LINFADENECTOMIA PA...\n",
       "Name: descricao, dtype: object"
      ]
     },
     "execution_count": 27,
     "metadata": {},
     "output_type": "execute_result"
    }
   ],
   "source": [
    "corpus.head()"
   ]
  },
  {
   "cell_type": "code",
   "execution_count": 28,
   "metadata": {},
   "outputs": [],
   "source": [
    "from sklearn.feature_extraction.text import CountVectorizer"
   ]
  },
  {
   "cell_type": "code",
   "execution_count": 29,
   "metadata": {},
   "outputs": [],
   "source": [
    "#get the text column \n",
    "docs = corpus.tolist()"
   ]
  },
  {
   "cell_type": "code",
   "execution_count": null,
   "metadata": {},
   "outputs": [],
   "source": []
  },
  {
   "cell_type": "code",
   "execution_count": 30,
   "metadata": {},
   "outputs": [],
   "source": [
    "#create a vocabulary of words, \n",
    "#ignore words that appear in 85% of documents, \n",
    "#eliminate stop words\n",
    "#import nltk\n",
    "#nltk.download('wordnet')\n",
    "CV = CountVectorizer(max_df=0.85,stop_words=spacy_stopwords,lowercase=True,tokenizer=LemmaTokenizer())\n",
    "#CV = CountVectorizer(max_df=0.85,stop_words=spacy_stopwords,lowercase=True)\n"
   ]
  },
  {
   "cell_type": "code",
   "execution_count": 31,
   "metadata": {},
   "outputs": [],
   "source": [
    "word_count_vector = CV.fit_transform(docs)"
   ]
  },
  {
   "cell_type": "code",
   "execution_count": 32,
   "metadata": {},
   "outputs": [
    {
     "data": {
      "text/plain": [
       "(201182, 7297)"
      ]
     },
     "execution_count": 32,
     "metadata": {},
     "output_type": "execute_result"
    }
   ],
   "source": [
    "word_count_vector.shape"
   ]
  },
  {
   "cell_type": "code",
   "execution_count": 33,
   "metadata": {
    "scrolled": true
   },
   "outputs": [
    {
     "name": "stdout",
     "output_type": "stream",
     "text": [
      "[]\n",
      "0\n"
     ]
    }
   ],
   "source": [
    "x = [ i for i in CV.vocabulary_.keys() if len(i) <= 3]\n",
    "x.sort()\n",
    "print(x)\n",
    "print(len(x))"
   ]
  },
  {
   "cell_type": "code",
   "execution_count": 34,
   "metadata": {},
   "outputs": [
    {
     "name": "stdout",
     "output_type": "stream",
     "text": [
      "[\"'frx\", 'aartroscop', 'abaix', 'abal', 'abbott', 'abbrev', 'abcess', 'abdom', 'abdomen', 'abdomin', 'abdotex', 'abduca', 'abert', 'abibutton', 'ability', 'abla', 'ablac', 'ablaca', 'ablai', 'ablation', 'ablaça', 'ablez', 'abobad', 'abord', 'abrad', 'abras', 'abscess', 'absolut', 'absorbatack', 'absori', 'absorv', 'absorvi', 'absorvivelsurgicel', 'abth', 'abutment', 'acab', 'acalas', 'acca', 'accent', 'acces', 'accessori', 'accoat', 'accolad', 'accsa', 'accu', 'accuforc', 'acculink', 'accumax', 'accurex', 'accustick', 'accutrac', 'acecut', 'acelul', 'acer', 'aces', 'acess', 'acessori', 'acet', 'acetab', 'acetabul', 'acetubul', 'acid', 'acif', 'aciflex', 'acim', 'acion', 'acionamentop', 'acomod', 'acomodaça', 'acomp', 'acompanh', 'acopl', 'acotovel', 'acracut', 'acrescent', 'acril', 'acrobat', 'acrom', 'acromi', 'acromiioblast', 'acromioclavicul', 'acromioniz', 'acromioplast', 'acros', 'acrostak', 'acrâmi', 'acrômi', 'acticoat', 'actifus', 'action', 'activ', 'actp', 'acuity', 'aculoc', 'acunav', 'acurat', 'acus', 'acutrack', 'acutrak', 'acutwist', 'acús', 'adapt', 'adaptaca', 'adaptador', 'adaptic', 'adaptiv', 'adat', 'addplu', 'aden', 'adenoidectom', 'adenom', 'adenomastectom', 'ader', 'aderenc', 'ades', 'adesa', 'adheru', 'adhesion', 'adib', 'adic', 'adjustabl', 'admir', 'adolesc', 'adpt', 'adquir', 'adren', 'adrenalectom', 'adroit', 'adsr', 'adult', 'advac', 'advanc', 'advance', 'advanced', 'advanix', 'advant', 'advantag', 'advanti', 'advincul', 'advis', 'aegisy', 'aequalil', 'aere', 'aeril', 'aesculap', 'afast', 'afer', 'aferes', 'afet', 'affinity', 'afil', 'afiladab', 'afili', 'afocu', 'afrr', 'afund', 'afunil', 'agent', 'aggressiv', 'agilil', 'agility', 'agilon', 'aglh', 'aglutin', 'agraf', 'agraft', 'agres', 'agress', 'agressiv', 'agrup', 'aguaguid', 'agud', 'aguh', 'aguj', 'agulh', 'agulhap', 'airtraq', 'airway', 'ajust', 'ajusta', 'akre', 'alarg', 'alaç', 'albograft', 'alcath', 'alcool', 'alcp', 'aleph', 'alerg', 'alexil', 'alginat', 'algod', 'alif', 'alifa', 'aliment', 'alimentaca', 'alinh', 'alivi', 'allen', 'allevyn', 'allianc', 'allwin', 'alobon', 'alogen', 'alon', 'along', 'alongfix', 'alopl', 'alpain', 'alph', 'alpin', 'altaflow', 'alter', 'alternanc', 'altrasson', 'altrx', 'altur', 'alumin', 'alumini', 'alvefix', 'alveol', 'alvision', 'alvéol', 'amarel', 'amarrilh', 'ambient', 'ambu', 'ambulator', 'ambulatori', 'amcc', 'amcr', 'amcrt', 'amigdalectom', 'amigdali', 'amil', 'aminofix', 'amnio', 'amostr', 'amovel', 'ampaltz', 'amphirion', 'amplatz', 'amplaz', 'ampli', 'ampliaça', 'amplitud', 'amplivision', 'ampol', 'amput', 'amputaca', 'amputaça', 'amsterd', 'amtibio', 'anacond', 'anal', 'analges', 'analog', 'anast', 'anastomos', 'anatom', 'anatomic', 'anatrof', 'anatôm', 'anch', 'anchorbi', 'anchorfix', 'anchoring', 'anclaj', 'ancor', 'ancoragg', 'ancorfix', 'ancortec', 'anct', 'andrasn', 'anel', 'anestes', 'anestés', 'aneureurism', 'aneurism', 'aneurismectom', 'anex', 'anexectom', 'angi', 'angifla', 'angiflac', 'angiodroid', 'angiofibrom', 'angiofraf', 'angiog', 'angiograf', 'angiográf', 'angioguard', 'angiojet', 'angiom', 'angiomed', 'angiop', 'angioplast', 'angioptic', 'angiorradiolog', 'angiose', 'angioset', 'angiotomograf', 'angl', 'angled', 'angul', 'angula', 'angulaca', 'angv', 'anilh', 'animal', 'anntom', 'anodiz', 'anomal', 'anoperine', 'anorm', 'anorret', 'anquilos', 'ansel', 'antebrac', 'antebraqu', 'antebraç', 'antecam', 'antecâm', 'anten', 'anteolater', 'antep', 'anter', 'anteri', 'anterogr', 'anterolater', 'anteromed', 'antiader', 'antib', 'antibio', 'antibiot', 'anticalcific', 'anticoagul', 'anticorp', 'antifibro', 'antimicrobi', 'antirotac', 'antr', 'antrosond', 'antrostom', 'anul', 'anuloplast', 'anuscopi', 'anômal', 'aorfix', 'aort', 'aortic', 'aortograf', 'aparafus', 'aparelh', 'apcr', 'apelh', 'apen', 'apend', 'apendicectom', 'apert', 'apex', 'apic', 'apid', 'apirogen', 'aplain', 'aplic', 'aplica', 'aplicaca', 'aplicat', 'aplit', 'apofis', 'apoi', 'apol', 'apoll', 'apollon', 'aponeuro', 'aponevros', 'applica', 'applied', 'apreensa', 'apresentaca', 'aprotinin', 'aproxim', 'aptu', 'aqua', 'aquaguid', 'aqualain', 'aqualin', 'aqualoc', 'aquamanty', 'aquaplast', 'aquatrack', 'aquec', 'aquil', 'aquis', 'aracnoid', 'arafus', 'aram', 'aranh', 'arboviru', 'architect', 'archov', 'areol', 'argoni', 'argu', 'aril', 'arimod', 'arist', 'aristaah', 'aritenoid', 'armoursorb', 'armstrong', 'arnett', 'arnold', 'arque', 'arranc', 'array', 'arred', 'arredond', 'arrefec', 'arrendod', 'arrendond', 'arritim', 'arritm', 'arritmogen', 'arritmogên', 'arritmogún', 'arrow', 'arruel', 'arter', 'arteri', 'arteriograf', 'arterioplast', 'arterioven', 'arthr', 'arthrex', 'arthroc', 'arthroct', 'arthrocut', 'arthroereisil', 'arthrosmart', 'arthrum', 'artic', 'articil', 'articul', 'articula', 'articulaca', 'articulaco', 'articulating', 'articulaça', 'articuld', 'articulez', 'artif', 'artific', 'artisan', 'artr', 'artrit', 'artrobomb', 'artrocentes', 'artrod', 'artrodes', 'artrodiastas', 'artrodos', 'artrofibros', 'artrofitos', 'artromedic', 'artroplan', 'artroplast', 'artrorris', 'artros', 'artrosc', 'artroscop', 'artrosplast', 'artrotom', 'artér', 'artéri', 'aréol', 'asah', 'ascend', 'ascent', 'asdf', 'asdmf', 'asfer', 'asnil', 'aspflex', 'aspir', 'aspiraca', 'aspiravac', 'aspiraça', 'aspirex', 'aspiron', 'asplas', 'assep', 'assimetr', 'assist', 'assistenc', 'assoalh', 'associ', 'associa', 'assumesh', 'assur', 'assurity', 'assy', 'astat', 'astic', 'astm', 'astron', 'astroscop', 'atakr', 'atarrach', 'atarrax', 'atcp', 'ateau', 'atend', 'aterectom', 'ateromectom', 'atet', 'atin', 'ativ', 'ativaca', 'atlantic', 'atml', 'atrauma', 'atrauman', 'atres', 'atri', 'atrion', 'atrioseptostom', 'atrioseptotostom', 'atriosseptostom', 'atrium', 'atrodes', 'atroscop', 'attain', 'attest', 'attrax', 'attun', 'audi', 'audica', 'aument', 'aumenta', 'auricul', 'auril', 'autoades', 'autoatarrax', 'autobloque', 'autobloquea', 'autoclav', 'autoclava', 'autocompress', 'autocon', 'autodinam', 'autoexp', 'autoexpansa', 'autoexpansi', 'autofix', 'autogen', 'autolog', 'autom', 'automa', 'auton', 'autonom', 'autoperfur', 'autor', 'autorosc', 'autorosq', 'autorosque', 'autorrosc', 'autorrosque', 'autosonix', 'autotransfus', 'autotransfusa', 'autotranspl', 'auxili', 'auxíli', 'avali', 'avaliaça', 'avanc', 'avant', 'avanç', 'avascul', 'avec', 'avell', 'avent', 'aventalm', 'avenu', 'avia', 'avig', 'avinten', 'aviten', 'avlcp', 'avlp', 'avuls', 'avulsa', 'away', 'axial', 'axil', 'axium', 'axon', 'axxces', 'axxes', 'azig', 'azul', 'azur', 'baby', 'babyfoot', 'babygraft', 'bacca', 'bacinet', 'back', 'bacteri', 'bainh', 'baionet', 'baix', 'bala', 'balamoprepuc', 'balan', 'balanc', 'balanced', 'balancium', 'balkin', 'ball', 'ballon', 'balloon', 'balo', 'balt', 'balton', 'banan', 'banc', 'band', 'bande', 'bandej', 'banh', 'bant', 'bantan', 'bard', 'bardport', 'barefib', 'bari', 'bariatr', 'bariatric', 'barimed', 'bariátr', 'barr', 'barrax', 'barre', 'barrel', 'barricad', 'basal', 'baseplat', 'basic', 'basil', 'basix', 'basket', 'basx', 'batoqu', 'bccc', 'bcip', 'bcpf', 'bead', 'beaded', 'bearing', 'beck', 'beir', 'bell', 'bend', 'bendabl', 'beng', 'benign', 'bennett', 'bent', 'bentson', 'berenstein', 'beriplast', 'berman', 'bern', 'beveled', 'bexig', 'bgddt', 'biax', 'bibkill', 'bicam', 'bicamer', 'bicarbon', 'bicep', 'bicipit', 'bicision', 'bicontact', 'biconvex', 'bicor', 'bicortic', 'bidirec', 'biesalsk', 'bifas', 'bifem', 'bifemor', 'bifoc', 'bifurc', 'bifurcaça', 'biglian', 'bigorn', 'biiliac', 'bilater', 'bile', 'bili', 'biliary', 'biliodiges', 'bimaleol', 'bimaxil', 'bioa', 'bioab', 'bioabsorvi', 'bioadvanc', 'bioanch', 'bioc', 'biocell', 'bioceram', 'biocolagen', 'biocollagen', 'biocompat', 'biocompon', 'biocomposit', 'biocompost', 'biocompressa', 'biocorkscrew', 'biocron', 'biocryl', 'biodegrada', 'biodesigntm', 'biodimenc', 'biodimens', 'biofo', 'biofreedom', 'biofun', 'biogen', 'bioglu', 'biointrafix', 'biol', 'biolin', 'biolitec', 'biolocking', 'biolog', 'biolox', 'biolpog', 'biolux', 'biomatrix', 'biomec', 'biomecan', 'biomed', 'biomedic', 'biomesh', 'biomet', 'biometrix', 'biomim', 'biomin', 'biomodel', 'bionet', 'bionnovation', 'biopinc', 'bioplat', 'bioprotes', 'biops', 'biopsneur', 'biopsverty', 'biopsy', 'biopsybell', 'biopump', 'biopushlock', 'biorad', 'biorap', 'biorc', 'biortic', 'bioscrew', 'biosens', 'biosorb', 'biospong', 'biossilex', 'biosteon', 'biosur', 'biotec', 'bioteck', 'biotemp', 'bioteq', 'biovac', 'biozip', 'bipart', 'bipas', 'bipendicul', 'bipl', 'bipol', 'bisel', 'bistur', 'biventricul', 'bivolt', 'bizagr', 'bióps', 'black', 'blackflush', 'blackston', 'blad', 'bladd', 'bladed', 'bladel', 'bladeles', 'blak', 'blanc', 'blaoqued', 'blas', 'blayc', 'blaz', 'bleed', 'blefarocalaz', 'blefarorraf', 'blind', 'blist', 'blitz', 'blkn', 'bloc', 'blocam', 'block', 'blockad', 'blockaid', 'bloq', 'bloqeui', 'bloqu', 'bloque', 'bloquea', 'bloquead', 'bloqued', 'bloquei', 'bloqueioue', 'bloqweé', 'blount', 'blquei', 'bluelin', 'bluglid', 'blunt', 'blunttip', 'boar', 'bocal', 'boci', 'body', 'bold', 'boll', 'bolog', 'bolot', 'bols', 'bolt', 'bomb', 'bombe', 'bombell', 'bonaliv', 'bonebridg', 'bonecutt', 'bonefil', 'bonefill', 'bonescalpel', 'bonesynth', 'borc', 'bord', 'borrach', 'borst', 'boston', 'bota', 'boto', 'boton', 'botox', 'bottom', 'botton', 'botulin', 'botulín', 'bour', 'bovin', 'bowl', 'bpsp', 'braided', 'brailded', 'bramsy', 'branc', 'branch', 'branqu', 'branquiterap', 'braoc', 'braqu', 'braquiterap', 'brassel', 'braz', 'braç', 'break', 'breakoff', 'breast', 'breck', 'breez', 'brid', 'bridg', 'brigad', 'brisow', 'brit', 'brizi', 'broc', 'brockenbrough', 'bronc', 'bronch', 'bronchopart', 'broncoalveol', 'broncoaspirac', 'broncograf', 'broncoplast', 'broncoscop', 'bronqu', 'bronque', 'bronqui', 'brophy', 'broqu', 'broviac', 'brumed', 'brush', 'brushles', 'bsdn', 'btcp', 'bucal', 'buch', 'bucomaxil', 'bucomaxilofac', 'bucoplan', 'budd', 'budl', 'bulb', 'bulectom', 'bullet', 'bundl', 'bunion', 'burac', 'burr', 'burs', 'bursectom', 'butolin', 'butterfly', 'button', 'buttres', 'bypas', 'bóci', 'cabec', 'cabel', 'cabelud', 'cabeç', 'cabl', 'cableready', 'cade', 'cadiover', 'caiman', 'caix', 'calax', 'calc', 'calcan', 'calcane', 'calcanh', 'calci', 'calcul', 'caldwel', 'caldwell', 'calib', 'calibr', 'calist', 'call', 'callist', 'calos', 'calot', 'calvarium', 'calvícul', 'calç', 'cambr', 'camis', 'camp', 'canal', 'canalet', 'canc', 'cancell', 'candel', 'candelabr', 'candidat', 'canel', 'canet', 'canin', 'canist', 'cannon', 'cannul', 'cant', 'cantat', 'canuald', 'canul', 'capac', 'capi', 'capiox', 'capisur', 'cappabianc', 'capston', 'capsul', 'capsulectom', 'capsulotom', 'capsulotomy', 'capsur', 'capt', 'captiflex', 'captiv', 'captiva', 'captur', 'carb', 'carbid', 'carbofl', 'carbomedic', 'carbon', 'carbostent', 'carboximetilcelulos', 'carcinom', 'card', 'cardi', 'cardiac', 'cardib', 'cardiodesfibril', 'cardiolain', 'cardiolog', 'cardiomicropleg', 'cardiomioplast', 'cardiopat', 'cardioperfus', 'cardioplast', 'cardiopleg', 'cardiopulmon', 'cardiotom', 'cardiovascul', 'cardiover', 'carefix', 'caret', 'carg', 'carib', 'carific', 'carniot', 'carot', 'carotide', 'carotíd', 'carp', 'carpenti', 'carpi', 'carr', 'carreg', 'carretel', 'cart', 'cartes', 'cartil', 'cartilagin', 'cartuch', 'caruncul', 'carót', 'carótide', 'cashm', 'casp', 'casquilh', 'casset', 'catalyst', 'catat', 'catch', 'catert', 'catet', 'cateter', 'catetergu', 'cateterizaça', 'catetr', 'cath', 'cathet', 'catét', 'caud', 'causs', 'cauter', 'caval', 'cavern', 'cavernostom', 'cavidad', 'cavilh', 'cavit', 'cavitari', 'cavum', 'cdet', 'cdhleg', 'cebol', 'cefal', 'cefalorraque', 'cefalostat', 'celect', 'celera', 'celiac', 'cell', 'cellutiom', 'celostom', 'celul', 'celulos', 'cemented', 'cemex', 'cemfix', 'cent', 'centerlin', 'centimentr', 'centimetr', 'centr', 'centraliz', 'centrament', 'centriflux', 'centrifug', 'centron', 'centronail', 'centrosfl', 'century', 'ceraflex', 'ceram', 'ceramic', 'cerasorb', 'cercl', 'cerebel', 'cerebr', 'cerecyt', 'cert', 'certu', 'cerv', 'cervi', 'cervic', 'cervicotom', 'cesari', 'cespac', 'cest', 'cetet', 'cganch', 'challeng', 'champy', 'chanfr', 'chanley', 'chaperon', 'chat', 'chav', 'check', 'chei', 'chiar', 'chib', 'chin', 'chip', 'chirulen', 'chlp', 'choic', 'chol', 'chondr', 'choqu', 'chqqu', 'chrom', 'chron', 'chronoflex', 'cian', 'cianoacrilat', 'cicat', 'cicatric', 'cicatriz', 'cicl', 'cicurg', 'cifoplast', 'cifos', 'cili', 'cilindr', 'ciment', 'cimentaca', 'cimentech', 'cimet', 'cimpox', 'cinc', 'cinch', 'cinchi', 'cineangiocoronariograf', 'cineangiograf', 'cineangiográf', 'cinecoronargiograf', 'cinecoronargiográf', 'cinecoronari', 'cinecoronariograf', 'cinecoronariográf', 'cingulectom', 'cingulotom', 'cint', 'cintilograf', 'cinz', 'cinzel', 'circ', 'circl', 'circuit', 'circul', 'circulaca', 'circulatori', 'circulaça', 'circunfer', 'circuít', 'ciru', 'cirug', 'cirur', 'cirurcul', 'cirurg', 'cirurgi', 'cirurgica', 'cirurig', 'cirururg', 'cirwrg', 'cirúg', 'cirúrg', 'cisn', 'cist', 'cistectom', 'cistern', 'cistocath', 'cistocel', 'cistoenteroplast', 'cistoenterostom', 'cistolitotom', 'cistolitotrips', 'cistoplast', 'cistorraf', 'cistoscop', 'cistoscopi', 'cistostom', 'cistot', 'cistotom', 'cistouretroplast', 'citolog', 'citoscop', 'citr', 'ciurg', 'cizel', 'clamp', 'clar', 'clas', 'class', 'classic', 'clav', 'clavicul', 'clavícul', 'claw', 'cldm', 'clean', 'cleantech', 'clearcut', 'clearview', 'click', 'clickfix', 'clickx', 'clik', 'clin', 'clink', 'cliny', 'clip', 'clitoroplast', 'clon', 'clos', 'closur', 'clust', 'clín', 'cmaxx', 'cmpoleg', 'coacces', 'coag', 'coagul', 'coagulaca', 'coagulogram', 'coalis', 'coan', 'coarct', 'coars', 'coat', 'coated', 'coax', 'cobalt', 'coban', 'cober', 'cobert', 'cobr', 'cobraid', 'coccige', 'coccix', 'cochl', 'cocl', 'cocoon', 'cocr', 'cocrm', 'codig', 'codman', 'coes', 'coesiv', 'coeund', 'coeur', 'coflex', 'cogumel', 'cohesiv', 'coil', 'colag', 'colagen', 'colangi', 'colangiograf', 'colangiopancreatograf', 'colater', 'cold', 'cole', 'colecistectom', 'colecistojejunostom', 'colecistostom', 'coleco', 'colectom', 'coledoc', 'coledoci', 'coledocoplast', 'coledocoscop', 'coledocostom', 'coledocotom', 'colet', 'coleç', 'coleça', 'colh', 'colheit', 'colibr', 'colim', 'coll', 'collagen', 'collectevac', 'collection', 'collim', 'colobom', 'coloc', 'colocac', 'colocaca', 'colocaça', 'colon', 'colonoscop', 'coloplast', 'color', 'colorraf', 'colostom', 'colotom', 'colpectom', 'colpocleis', 'colpoperineoplast', 'colpoperineorraf', 'colpoplast', 'colporraf', 'colpotom', 'colub', 'colum', 'columbu', 'column', 'colun', 'colédoc', 'comb', 'combin', 'comblin', 'comex', 'comfort', 'cominu', 'comissurotom', 'command', 'comp', 'compact', 'compactfl', 'compart', 'compas', 'compati', 'compen', 'compens', 'compensaca', 'compl', 'complac', 'complasc', 'complement', 'complet', 'complex', 'complic', 'complicaco', 'compon', 'componemt', 'componen', 'componentebas', 'componenteh', 'componentetib', 'componet', 'composit', 'composix', 'compost', 'compr', 'comprensa', 'compres', 'compress', 'compressa', 'compriment', 'compromet', 'computador', 'comum', 'comunic', 'comunicaça', 'comx', 'conc', 'concav', 'concavac', 'concentr', 'concept', 'concert', 'conch', 'concierg', 'concomit', 'concord', 'cond', 'condic', 'condil', 'condile', 'condili', 'condr', 'condroplast', 'condu', 'conductr', 'condut', 'conduç', 'conduça', 'conec', 'conect', 'conex', 'conexa', 'conf', 'confecca', 'confecç', 'confecça', 'confianc', 'confin', 'confix', 'conflu', 'conform', 'conforma', 'confort', 'congenit', 'congru', 'congênit', 'conic', 'conicad', 'conicr', 'coniz', 'conizaça', 'conj', 'conjug', 'conjun', 'conjunt', 'conjuntiv', 'conjut', 'connect', 'conquest', 'conserv', 'consolid', 'const', 'constellation', 'constitu', 'constrit', 'construx', 'consult', 'cont', 'contact', 'contactr', 'contat', 'contemporany', 'contempory', 'contenca', 'contenç', 'conteud', 'contigu', 'contin', 'continenc', 'continu', 'continuum', 'contorn', 'contour', 'contourlook', 'contr', 'contralat', 'contralater', 'contrat', 'control', 'contínu', 'conunt', 'convenc', 'convencionl', 'conver', 'convers', 'conversa', 'converso', 'convex', 'convexac', 'convey', 'cook', 'cool', 'coolcut', 'coolief', 'coom', 'copeland', 'copernic', 'copi', 'copilot', 'copin', 'corail', 'coralin', 'cord', 'cordectom', 'cordil', 'cordotom', 'cordã', 'corefix', 'corevalv', 'corkscr', 'corkscrew', 'corne', 'cornerston', 'corneston', 'cornet', 'coro', 'coroent', 'coron', 'coronari', 'coronariograf', 'coronariopat', 'coronár', 'corox', 'corp', 'corpectom', 'corpoprincip', 'corpor', 'corpore', 'corporectom', 'corr', 'corre', 'correca', 'correnpond', 'correspond', 'correç', 'correça', 'corrig', 'cors', 'cort', 'cortex', 'cortic', 'corticalp', 'corticoid', 'corticotom', 'corticóid', 'cose', 'cosm', 'cosman', 'cosmic', 'cost', 'costectom', 'costel', 'costum', 'cotil', 'cotiloid', 'cotonoid', 'cotovel', 'cotton', 'cottonoid', 'cottov', 'coug', 'cour', 'cournand', 'covac', 'coveredg', 'covidien', 'coxim', 'coxofemor', 'coyot', 'coágul', 'cpap', 'cplipmed', 'cpmh', 'cragg', 'cran', 'crane', 'craneoplast', 'crani', 'craniectom', 'cranioencefal', 'craniofac', 'craniofix', 'craniomaxilofac', 'cranioplast', 'cranioplastic', 'cranioplat', 'craniossinostos', 'craniot', 'craniotom', 'craniovertebr', 'crawford', 'cresc', 'crescie', 'crianc', 'crianç', 'criocauter', 'criocirurg', 'criopex', 'criptolis', 'cris', 'crist', 'cristalin', 'cristaloid', 'crit', 'crom', 'cromocobalt', 'cromoscop', 'cromotub', 'cromu', 'cron', 'cronoinfu', 'cronu', 'cros', 'crossbos', 'crosscath', 'crossf', 'crossft', 'crosslink', 'crosslinkd', 'crosslinked', 'crosslkd', 'crossov', 'crossw', 'crown', 'crtd', 'crtp', 'cruciform', 'cruent', 'cruis', 'crur', 'cruz', 'cryoprob', 'cryst', 'crân', 'crâni', 'crôn', 'cthru', 'ctrl', 'cubby', 'cubit', 'cuff', 'culdocentes', 'culdoplast', 'cunh', 'cupul', 'cupulectom', 'cura', 'curacel', 'curaspon', 'curet', 'curl', 'curs', 'curt', 'curto', 'cururg', 'curv', 'curvadax', 'curvat', 'curved', 'curviline', 'cust', 'custom', 'customiza', 'cutan', 'cutane', 'cutanplast', 'cuticul', 'cutt', 'cutting', 'cutâne', 'cutânee', 'cxbx', 'cyan', 'cyberonic', 'cyren', 'cystoscopic', 'cálcul', 'cânul', 'códig', 'côndil', 'dacriocistectom', 'dacriocistorrinostom', 'dacron', 'daiamnt', 'dakot', 'dall', 'dant', 'darc', 'dart', 'dash', 'dawson', 'dchn', 'ddplst', 'deavel', 'debast', 'debit', 'debri', 'debrid', 'debridaca', 'debridaçãocm', 'debrimax', 'debulking', 'deca', 'decap', 'decapol', 'decom', 'decorr', 'decortic', 'deep', 'defech', 'defecti', 'defeit', 'defin', 'defini', 'definica', 'defix', 'defl', 'deflaca', 'deflect', 'deflecti', 'deflex', 'deform', 'deforma', 'defrancq', 'degastrogastrectom', 'degrau', 'degre', 'deiscenc', 'dekompres', 'delamin', 'delg', 'delic', 'delight', 'delinea', 'deliv', 'delivery', 'deliz', 'delt', 'deltapaq', 'deltaplush', 'denal', 'denerv', 'denervaca', 'denervaça', 'dens', 'dent', 'dente', 'dentár', 'depend', 'depleça', 'depress', 'depuy', 'deriv', 'derivaca', 'derivaça', 'derm', 'dermabond', 'dermat', 'dermatocalaz', 'dermolipectom', 'derrotaça', 'desarticul', 'desarticulaca', 'desativ', 'desb', 'desbast', 'desbloquei', 'desbrid', 'desc', 'descart', 'descarta', 'descartav', 'descartavelversaport', 'descata', 'descend', 'descobert', 'descol', 'descompress', 'descompressa', 'desconex', 'descortic', 'descrta', 'desempenh', 'desenh', 'desfibril', 'desfibrilaca', 'desfibrilh', 'desfibrl', 'desfiladeir', 'desfivbril', 'desg', 'desgat', 'desinserco', 'desinserç', 'desktop', 'deslis', 'desliz', 'desloc', 'desobstruca', 'desobstruç', 'desprogram', 'destac', 'destaca', 'destination', 'desvascular', 'desvi', 'desvit', 'detachabl', 'detachment', 'detec', 'detecç', 'deultrathan', 'devic', 'diafis', 'diafisari', 'diafisectom', 'diafragm', 'diafragma', 'diafragmá', 'diag', 'diagnost', 'diagnosticodyn', 'diagnóst', 'diagon', 'diagram', 'dial', 'dialat', 'dialis', 'diam', 'diamant', 'diamantad', 'diament', 'diamentr', 'diametr', 'diamond', 'diamondback', 'dianos', 'diastas', 'diaterm', 'dicom', 'didec', 'dient', 'diferenci', 'diges', 'digisonic', 'digit', 'dignity', 'dila', 'dilar', 'dilat', 'dilataca', 'dilataco', 'dilatador', 'dilataça', 'dilating', 'dilock', 'diltat', 'dimant', 'dimens', 'dimension', 'dinafix', 'dinam', 'dinamic', 'dinamiz', 'dinamometr', 'dinâm', 'diod', 'dioptr', 'dioxan', 'diposi', 'dipret', 'direc', 'direcion', 'direciona', 'direct', 'direit', 'direitaxlong', 'direitoeit', 'direitotit', 'diret', 'diretriz', 'direxion', 'dirig', 'dirigel', 'dirigi', 'dirosc', 'disc', 'discec', 'discectom', 'discetom', 'discocerv', 'discograf', 'discopex', 'discov', 'disctra', 'disjunç', 'diskit', 'dispar', 'disper', 'dispers', 'dispersa', 'displas', 'disposi', 'disposibl', 'disposit', 'disppligad', 'disraf', 'dissec', 'dissecca', 'dissect', 'dissectom', 'dissecç', 'dissecça', 'dist', 'distail', 'distanc', 'distend', 'distnc', 'distorç', 'distr', 'distra', 'distraca', 'distradfractpl', 'distradpl', 'distradpll', 'distribu', 'districath', 'districlas', 'distrof', 'diver', 'divers', 'diverticul', 'diverticulectom', 'diverticulotom', 'divi', 'diár', 'diástas', 'diâmetr', 'dmax', 'doad', 'dobr', 'dobra', 'dobradiç', 'doenç', 'dokimu', 'domin', 'dominu', 'donaldson', 'dongguan', 'doppl', 'doral', 'dorm', 'dorni', 'dors', 'dorsifl', 'dorsolater', 'doubl', 'dour', 'drain', 'drap', 'draw', 'dreamw', 'dren', 'drenag', 'drenoplas', 'dressing', 'drez', 'drill', 'drilling', 'driv', 'drog', 'drydock', 'dryse', 'dssecca', 'dtcb', 'dual', 'dualpack', 'duct', 'duet', 'dulp', 'duocath', 'duodecap', 'duodecapol', 'duoden', 'duodenectom', 'duodenoplast', 'duodenoscop', 'duodenostom', 'duodenotom', 'duofit', 'dupl', 'duplotip', 'dupuytren', 'duracon', 'duradry', 'durafib', 'duraform', 'duragen', 'dural', 'duraloc', 'duramat', 'duramatrix', 'durapatch', 'durase', 'durasph', 'durasul', 'durat', 'duratex', 'durepa', 'dynafix', 'dynagen', 'dynamesh', 'dynamic', 'dynamik', 'dynast', 'dynasty', 'dynomit', 'dyonic', 'dígit', 'easivac', 'easy', 'easycut', 'easytrak', 'ebstein', 'ecbb', 'eccentr', 'echelon', 'echotip', 'eclips', 'ecobec', 'ecobit', 'ecodopplercardiogram', 'ecoendoscop', 'ecofit', 'ecogen', 'ecogit', 'ecograf', 'ecogên', 'ectop', 'ectóp', 'edcp', 'edem', 'edward', 'efeit', 'effect', 'efficient', 'eflex', 'egiaushort', 'eight', 'einc', 'elastomer', 'elbow', 'elbvap', 'elec', 'electrod', 'elefant', 'element', 'eletr', 'eletric', 'eletrobistur', 'eletrocauter', 'eletrocauteri', 'eletrocirurg', 'eletrocoagulaça', 'eletrod', 'eletroencefalogram', 'eletroest', 'eletroestimul', 'eletrofisiolog', 'eletrofisiológ', 'eletron', 'elev', 'elevat', 'elgiloy', 'eliminat', 'elip', 'elips', 'elipsoid', 'elise', 'elit', 'elizarov', 'ellick', 'ellik', 'ellips', 'elliptic', 'elliquenc', 'eltrod', 'elui', 'eluica', 'elun', 'elétr', 'elétrod', 'embal', 'embl', 'embocath', 'embol', 'embolectom', 'embolic', 'emboliz', 'embolizaca', 'embolizaça', 'emboloterap', 'embolxglid', 'embosf', 'emboshied', 'emboshield', 'embosoft', 'embosph', 'embot', 'embozen', 'embut', 'emerald', 'emerg', 'emergenc', 'empori', 'empreg', 'empurr', 'emxp', 'encaix', 'encap', 'encarcer', 'encefal', 'encefalogram', 'encerr', 'encf', 'ench', 'enchelon', 'encolh', 'encor', 'encost', 'encurt', 'endarterectom', 'endcap', 'endeav', 'ended', 'endobag', 'endobasket', 'endoboton', 'endobotton', 'endobronqu', 'endobronque', 'endobutton', 'endocard', 'endocardi', 'endocavitari', 'endoclinch', 'endoclip', 'endog', 'endogrampe', 'endogrampeadorreachendoscopiclinearcutt', 'endol', 'endolap', 'endolog', 'endologix', 'endoloop', 'endolum', 'endom', 'endomast', 'endomedul', 'endometrectom', 'endometri', 'endometrios', 'endometrioseâ', 'endomiocard', 'endomiocardiofibros', 'endonas', 'endop', 'endopatch', 'endopath', 'endopex', 'endopielotom', 'endopouch', 'endopr', 'endoproes', 'endoprot', 'endoprotes', 'endoprotesebifurc', 'endoprotos', 'endoprótes', 'endorlc', 'endosc', 'endoscop', 'endoscopi', 'endoscopiadescarta', 'endoscopiainterven', 'endoscopic', 'endoscrub', 'endoscóp', 'endosop', 'endotak', 'endoteck', 'endotraque', 'endouretr', 'endovacul', 'endovasc', 'endovascul', 'endoven', 'endoview', 'endovil', 'endoviv', 'endrogrampe', 'endur', 'enduranc', 'endurant', 'endurec', 'endurity', 'enduron', 'energ', 'energy', 'enesbp', 'enfc', 'engat', 'engenh', 'engimplan', 'englis', 'enhanced', 'enhancr', 'enlightn', 'enoftalm', 'ense', 'ensit', 'ensn', 'ensur', 'enter', 'enterectom', 'enterocel', 'enterocistoplast', 'enterocolit', 'enteropex', 'enterorraf', 'enteroscop', 'enterostom', 'enterotom', 'enterpris', 'entm', 'entort', 'entp', 'entr', 'entreg', 'entrelaç', 'entriport', 'entrist', 'entry', 'entub', 'enucle', 'enucleaça', 'enve', 'envelop', 'envision', 'envoy', 'enxcaix', 'enxert', 'eocvc', 'eonc', 'epac', 'epaç', 'epic', 'epicag', 'epicard', 'epicondil', 'epid', 'epidid', 'epididimectom', 'epifis', 'epifisari', 'epifisiodes', 'epifisiolistes', 'epifisit', 'epigastr', 'epigástr', 'epile', 'epileps', 'epimed', 'epimiocard', 'epimiocardi', 'epiploplast', 'epirodoscop', 'epistax', 'epitrocle', 'epssyl', 'epsyl', 'eptc', 'eptf', 'equadu', 'equaliz', 'equateur', 'equerd', 'equicel', 'equin', 'equinox', 'equip', 'equistre', 'equitamp', 'eral', 'erbejet', 'ergofix', 'ergonomix', 'ergonomo', 'erich', 'erick', 'eritromicin', 'ermir', 'escaf', 'escafoid', 'escafoidetrilock', 'escafóid', 'escalen', 'escalon', 'escalp', 'escam', 'escap', 'escapul', 'escapulopex', 'escarificaca', 'escl', 'escler', 'escleros', 'escleroterap', 'escol', 'escolios', 'escop', 'escov', 'escovadel', 'escrot', 'escur', 'escápul', 'eser', 'esfenoid', 'esfenopalatin', 'esfenoplatin', 'esfer', 'esfinct', 'esfincteroplast', 'esfincterot', 'esfincterotom', 'esfér', 'esfínct', 'esir', 'esmerald', 'esofa', 'esofag', 'esofage', 'esofagectom', 'esofagi', 'esofagocoloplast', 'esofagogastrectom', 'esofagoplast', 'esofagorraf', 'esofagostom', 'esofág', 'espac', 'espasm', 'espatul', 'espaç', 'espe', 'espec', 'especif', 'especific', 'especim', 'esperma', 'espes', 'espess', 'espicul', 'espinh', 'espir', 'espiral', 'esplen', 'esplenectom', 'esplenoportograf', 'espon', 'espond', 'espondil', 'espondilolistes', 'esponj', 'esponlj', 'esponsoj', 'espontane', 'espress', 'espum', 'espátul', 'esqquerd', 'esqued', 'esquelet', 'esquer', 'esquerd', 'esquerdobloque', 'esquerdouerd', 'esqurd', 'essent', 'essex', 'essx', 'estab', 'estabil', 'estabiliz', 'estabilizaca', 'estabilizaça', 'estagi', 'estagiot', 'estagiotpd', 'estandarderil', 'estapedectom', 'estapedotom', 'estapédi', 'estaque', 'estavel', 'estend', 'estenos', 'estenostom', 'esterel', 'estereotax', 'estereotáx', 'esteril', 'esteriliz', 'esteriliza', 'esteriotax', 'estern', 'esternectom', 'esternoclavicul', 'esternotom', 'esteroid', 'esterotax', 'estil', 'estilet', 'estiloid', 'estimu', 'estimul', 'estimulaca', 'estimulaça', 'estom', 'estomac', 'estomag', 'estr', 'estrab', 'estrangul', 'estranh', 'estrech', 'estreit', 'estrel', 'estri', 'estrib', 'estril', 'estrom', 'estrut', 'estud', 'estági', 'estâmag', 'esté', 'estéril', 'esvas', 'esvaz', 'esâfag', 'esôfag', 'ethibond', 'ethisorb', 'etiquet', 'etmo', 'etmoid', 'etmoide', 'etmoidectom', 'etrins', 'euph', 'eurocell', 'eurocon', 'europlu', 'euroscrew', 'evaclon', 'evacu', 'evacua', 'evacuaça', 'event', 'eventr', 'ever', 'evercros', 'everest', 'everflex', 'everol', 'everolimu', 'evicel', 'eviscer', 'evit', 'evity', 'evoc', 'evolu', 'evolut', 'evolution', 'evolutr', 'evolv', 'exact', 'exagon', 'exam', 'exbag', 'excalibur', 'excelsi', 'excentr', 'excentric', 'excert', 'excet', 'exchang', 'excis', 'excisa', 'exclu', 'exclud', 'exenter', 'exenteraca', 'exercíci', 'exeres', 'exert', 'exet', 'exeterv', 'exfer', 'exfix', 'exim', 'exodont', 'exolent', 'exose', 'expan', 'expand', 'expandacell', 'expanding', 'expans', 'expansi', 'expaç', 'expect', 'expedium', 'expert', 'expl', 'explor', 'exploraca', 'exploraça', 'export', 'expos', 'expres', 'expressew', 'exten', 'extend', 'extended', 'extens', 'extensa', 'extensf', 'extensi', 'exterm', 'extern', 'extesa', 'extirp', 'extirpaca', 'extirpaça', 'extr', 'extra', 'extrac', 'extraca', 'extracelul', 'extracomplet', 'extracorpore', 'extracorpóre', 'extracrani', 'extrad', 'extramedul', 'extraperitone', 'extraple', 'extraça', 'extrem', 'extremiti', 'extrof', 'extrusion', 'exxcel', 'exxocut', 'exxoflex', 'exxoflow', 'exxomed', 'exxoport', 'exéres', 'eyelet', 'ezste', 'fabr', 'fabric', 'fabron', 'facectom', 'facefix', 'facet', 'facetari', 'facoemulsific', 'faix', 'falang', 'falange', 'falangi', 'falcon', 'falh', 'fallot', 'famil', 'farg', 'fargomax', 'faring', 'faringe', 'faringectom', 'faringolaringectom', 'faringolaringoesofagectom', 'faringotom', 'farm', 'farmac', 'farmacolog', 'farmacológ', 'farp', 'fasc', 'fasciocutane', 'fasciocutâne', 'fasciotom', 'fasic', 'fast', 'fastak', 'fastin', 'fastmold', 'fathom', 'fathon', 'fatig', 'fecalom', 'fech', 'feit', 'feix', 'feltr', 'felx', 'feme', 'femin', 'feminin', 'femor', 'femoril', 'femur', 'fend', 'fenestr', 'fenix', 'fenol', 'fenotip', 'fermathron', 'ferr', 'ferrad', 'ferrament', 'fexivel', 'fiapc', 'fiberchain', 'fiberloop', 'fiberstick', 'fiberw', 'fibr', 'fibracol', 'fibril', 'fibrill', 'fibrin', 'fibrinogeni', 'fibrinolis', 'fibul', 'fiduc', 'field', 'figull', 'fild', 'filiform', 'fill', 'filled', 'film', 'filt', 'filterw', 'filtr', 'finish', 'finishing', 'fiofib', 'fiogu', 'firebird', 'firehawk', 'firm', 'first', 'firstpas', 'fisic', 'fisiolog', 'fisioterap', 'fiss', 'fissurectom', 'fistul', 'fistulectom', 'fistuliz', 'fistulograf', 'fistulotom', 'fitilin', 'fitlin', 'fixac', 'fixaca', 'fixacâ', 'fixafi', 'fixation', 'fixaça', 'fixed', 'fixoesquerd', 'fixu', 'flang', 'flange', 'flap', 'flapfix', 'flat', 'flatlin', 'flatow', 'flaut', 'fleb', 'flebograf', 'flech', 'flecx', 'fledex', 'flegm', 'flex', 'flexa', 'flexability', 'flexat', 'flexcil', 'flexi', 'flexibl', 'flexinail', 'flexinnium', 'flexion', 'flexipat', 'flexipath', 'flextom', 'flexx', 'flipcutt', 'flipp', 'flixen', 'floppy', 'flopump', 'flose', 'flotrac', 'flow', 'flowerbasketv', 'flowlin', 'flownit', 'flowwav', 'fluency', 'fluoroplas', 'flush', 'flushing', 'flut', 'fluted', 'flutt', 'flux', 'focu', 'fogarty', 'foic', 'foley', 'folhet', 'font', 'foot', 'footprint', 'foramen', 'forc', 'forcep', 'forgat', 'forj', 'form', 'format', 'formul', 'forraca', 'fort', 'fortavanç', 'fortify', 'fortres', 'fortrex', 'forx', 'forç', 'fosf', 'fosfat', 'fosfatic', 'fosfocalc', 'fosfor', 'foss', 'fotoabl', 'fotocoagul', 'fotossens', 'fotossensi', 'fountain', 'foxtrot', 'frag', 'fragmaneot', 'fragment', 'fram', 'framing', 'frasc', 'frat', 'frazi', 'fraç', 'fraça', 'fred', 'freeway', 'frei', 'frek', 'french', 'frenotom', 'frent', 'frequ', 'frequenc', 'freqüenc', 'fres', 'fresc', 'frez', 'fris', 'front', 'frxx', 'fryderyk', 'fubr', 'fujynon', 'full', 'fullbody', 'fullcircl', 'func', 'fund', 'funil', 'funnel', 'funç', 'furopass', 'furosx', 'furs', 'fusa', 'fusifix', 'fusimax', 'fusion', 'fusã', 'fyxil', 'fármac', 'fêmur', 'fíbul', 'fístul', 'fúnd', 'gabiport', 'gaiol', 'gale', 'galeazz', 'gallin', 'gamm', 'ganch', 'gandr', 'gangl', 'gangli', 'ganz', 'gapi', 'garch', 'garr', 'garraf', 'gastr', 'gastrectom', 'gastro', 'gastroenteroanastomos', 'gastroesofag', 'gastroesofág', 'gastrojejun', 'gastronom', 'gastroplast', 'gastrorraf', 'gastrostom', 'gastrotom', 'gateway', 'gatilh', 'gaug', 'gdfix', 'geistlich', 'gelatin', 'gelific', 'geliputty', 'gelitaspon', 'gelsoft', 'gelwav', 'gemin', 'gend', 'gener', 'generic', 'genesil', 'genesy', 'genex', 'geng', 'geni', 'genioplast', 'genit', 'geniturinari', 'genph', 'gent', 'gentamicin', 'gentl', 'geoalign', 'gerenc', 'gess', 'giant', 'gianturc', 'gigant', 'gigl', 'ginecolog', 'ginecomast', 'gint', 'girat', 'giratori', 'girdleston', 'glandul', 'glen', 'glenoid', 'glenosf', 'glenoumer', 'glid', 'glidecath', 'glidesheath', 'glidew', 'glob', 'globul', 'glomu', 'glossectom', 'glubr', 'glubran', 'glutaralde', 'glute', 'glândul', 'gold', 'golden', 'goldteck', 'goos', 'gord', 'gotfried', 'grad', 'gradil', 'gradu', 'grafit', 'graft', 'grafty', 'gram', 'gramp', 'grampe', 'gran', 'grand', 'granufo', 'granul', 'granulaca', 'granulom', 'grap', 'graphix', 'grasp', 'grasping', 'graspit', 'grau', 'graush', 'grausx', 'grav', 'gravid', 'gravitac', 'great', 'green', 'greenlight', 'grid', 'griff', 'grip', 'gripp', 'gription', 'grommet', 'groshong', 'gross', 'grup', 'gryphon', 'gráf', 'guardian', 'gubbin', 'guiavel', 'guid', 'guidelin', 'guideright', 'guidew', 'guidezill', 'guilhotin', 'gunt', 'gunth', 'gynec', 'gynemesh', 'gynmed', 'gástr', 'gângli', 'habib', 'habit', 'haemoc', 'hakim', 'hakin', 'half', 'hall', 'hallux', 'halux', 'hanafe', 'hanar', 'hanarostent', 'hancock', 'hand', 'handfix', 'handl', 'handp', 'hard', 'harmon', 'harmonic', 'harnes', 'hasson', 'hast', 'hatcp', 'hatric', 'hbfsf', 'hbpl', 'head', 'headhunt', 'headlin', 'headway', 'healix', 'hearstspan', 'heartrail', 'heartspan', 'heat', 'hebbert', 'hebel', 'hebert', 'height', 'helic', 'helicobact', 'helicod', 'helicoid', 'helicut', 'heliten', 'helix', 'hemac', 'hemangiom', 'hemashield', 'hematolog', 'hematom', 'hematur', 'hemiartroplas', 'hemiartroplast', 'hemiatrof', 'hemicalç', 'hemicolectom', 'hemiesp', 'hemimandibulectom', 'hemisfer', 'hemisph', 'hemitorax', 'hemivertebr', 'hemoclip', 'hemococentr', 'hemoconcentr', 'hemod', 'hemodepur', 'hemodepuraça', 'hemodialis', 'hemodialysil', 'hemodinam', 'hemodinan', 'hemodinâm', 'hemodinân', 'hemodiális', 'hemoflow', 'hemolok', 'hemopatch', 'hemoptis', 'hemorrag', 'hemorro', 'hemorroid', 'hemorroidectom', 'hemost', 'hemosta', 'hemostas', 'hemostat', 'hemosthas', 'hemosub', 'hemovent', 'hemu', 'hepa', 'heparin', 'hepasf', 'hepasph', 'hepatectom', 'hepaticoplast', 'hepatorraf', 'hepatotom', 'hepá', 'herbert', 'hercul', 'herculink', 'hern', 'herniaingu', 'hernigaus', 'hernioplast', 'herniorraf', 'heron', 'hexadriv', 'hexagon', 'hexalob', 'hexalobul', 'hexapol', 'hfanl', 'hialuron', 'hialuronat', 'hiat', 'hibr', 'hibrid', 'hickman', 'hidr', 'hidrat', 'hidroc', 'hidrocefal', 'hidrocel', 'hidrocelul', 'hidrof', 'hidrofil', 'hidroflow', 'hidrofob', 'hidrofol', 'hidrofíl', 'hidrogel', 'hidroplu', 'hidrox', 'hidroxapatit', 'hidroxiapatit', 'high', 'highflex', 'highflow', 'higrom', 'hilal', 'hilan', 'hilin', 'hilit', 'hilotherm', 'hing', 'hioide', 'hiperalgul', 'hiperat', 'hiperbar', 'hiperesplen', 'hiperflex', 'hiperlordo', 'hiperparatireoid', 'hipersele', 'hipertens', 'hiperterm', 'hipertrof', 'hipofisectom', 'hipogastr', 'hipoplas', 'hipospad', 'hipoterm', 'hiproxiapatit', 'hiryu', 'hist', 'histerectom', 'histerorraf', 'histeroscop', 'histoacryl', 'histolog', 'hitorqu', 'hnbr', 'hockey', 'hoffmann', 'hohmann', 'holeleft', 'holeright', 'hollow', 'hollywood', 'holmi', 'holmium', 'holt', 'homodigit', 'homoenxert', 'homolog', 'hook', 'hopkim', 'horiz', 'horizon', 'horizont', 'hormon', 'hortron', 'hospit', 'hospital', 'hous', 'howell', 'hpbi', 'hrydocat', 'hubles', 'hudson', 'human', 'humec', 'humer', 'humm', 'hxlp', 'hybrid', 'hydr', 'hydrocoil', 'hydrofil', 'hydrofilm', 'hydroflow', 'hydrogel', 'hydroglid', 'hydrophil', 'hydroset', 'hydrosoft', 'hydroste', 'hypercoat', 'hyperflex', 'hyperform', 'hyperglid', 'hypersoft', 'hérn', 'híbr', 'iamps', 'iconix', 'ideal', 'idelt', 'ident', 'identific', 'idriv', 'iest', 'igtcf', 'ihip', 'iiitm', 'iiplu', 'ikar', 'ikari', 'ikit', 'ileal', 'ileostom', 'ilest', 'iliac', 'iliv', 'ilizarov', 'illic', 'illizarov', 'ilumin', 'ilíac', 'imad', 'imag', 'imapl', 'imedic', 'imobil', 'imobilizaça', 'impact', 'impacteck', 'impateck', 'impedanciometr', 'impedânciometr', 'imperfur', 'imperme', 'impermeab', 'impermeabil', 'impix', 'impl', 'implanfix', 'implant', 'implanta', 'implantaca', 'implantec', 'implantmed', 'implants', 'implata', 'imple', 'implement', 'impol', 'import', 'impotenc', 'impr', 'impregn', 'impres', 'imprint', 'impuls', 'imunoistoquim', 'imunolog', 'imwc', 'inat', 'incept', 'inch', 'inci', 'incifilm', 'incis', 'incisa', 'incisi', 'inclin', 'inclinaca', 'inclined', 'inclu', 'inclus', 'inclusil', 'inclusiv', 'incomep', 'incompatibil', 'incontin', 'incontinenc', 'incorpor', 'incotinenc', 'incr', 'incruent', 'indefla', 'independ', 'indisc', 'individ', 'indocianin', 'indovasiv', 'indriv', 'indrodu', 'indu', 'induç', 'indy', 'infantil', 'infart', 'infecca', 'infecci', 'infect', 'infectolog', 'infecç', 'inferi', 'inferir', 'infil', 'infiltr', 'infiltraca', 'infiltraça', 'infinit', 'infinity', 'infix', 'infl', 'infla', 'inflaca', 'inflamatori', 'inflation', 'infov', 'infr', 'infraren', 'infu', 'infundibul', 'infus', 'infusa', 'ingeni', 'ingevity', 'ingu', 'inhibizon', 'inic', 'inici', 'inje', 'injeca', 'inject', 'injeta', 'injex', 'injeç', 'injeça', 'inlay', 'inlumin', 'innov', 'innovation', 'innovattion', 'inomed', 'inorg', 'inorgan', 'inov', 'inox', 'inoxid', 'inoxida', 'inoxidavelx', 'inpact', 'input', 'inquebra', 'inquiry', 'inqw', 'inrrig', 'inser', 'inserca', 'insert', 'insertotib', 'inserç', 'insp', 'inspiron', 'insrt', 'instabil', 'instal', 'instalaca', 'instalaça', 'instantane', 'insterstim', 'instil', 'instinct', 'instrument', 'instrumentaca', 'instrumentaça', 'instrumentç', 'instrumet', 'insufici', 'insuficienc', 'insufl', 'insuflaca', 'insuflaça', 'insul', 'insulated', 'insulfl', 'integr', 'integrity', 'inteliflex', 'intellibraid', 'intelliflex', 'intellil', 'intensiv', 'interatr', 'interaxil', 'interc', 'intercamb', 'intercambi', 'intercambia', 'intercambiav', 'intercondil', 'intercondile', 'intercorr', 'interefenc', 'intereferenc', 'interefrenc', 'intereix', 'interespinh', 'interess', 'interf', 'interfac', 'interfalang', 'interfalange', 'interfalangen', 'interfascicul', 'interfeix', 'interfenc', 'interfer', 'interferenc', 'interfix', 'interi', 'interject', 'interlift', 'interlock', 'interlok', 'interm', 'intermaxil', 'intermed', 'intermediari', 'intermediat', 'intermedic', 'intermesh', 'intermit', 'intern', 'interpos', 'interpuls', 'interrupç', 'intersom', 'intersoma', 'interssoma', 'interstim', 'intertrav', 'interven', 'intervenc', 'intervenca', 'interventricul', 'intervertebr', 'intest', 'intestin', 'intic', 'intr', 'intrac', 'intracard', 'intracardiac', 'intracavit', 'intracavitari', 'intracavitár', 'intracerebr', 'intracord', 'intracoron', 'intracoronari', 'intracoroni', 'intracorp', 'intracrane', 'intracrani', 'intrad', 'intradisc', 'intradu', 'intraestom', 'intrafascicul', 'intragastr', 'intrahepa', 'intralin', 'intralum', 'intramedul', 'intramesh', 'intramuscul', 'intranas', 'intrane', 'intraocul', 'intraoper', 'intraoperatori', 'intraor', 'intraparenquimat', 'intraperiton', 'intraperitone', 'intraple', 'intrasept', 'intrasit', 'intraspin', 'intratars', 'intratec', 'intratempor', 'intratorac', 'intravascul', 'intraven', 'intraventricul', 'intravesic', 'intravitre', 'intravrani', 'intrinsec', 'introd', 'introdu', 'introduc', 'introduca', 'introdudç', 'introduç', 'introduça', 'introsyt', 'intrudu', 'intscr', 'intub', 'intubaca', 'intuition', 'invad', 'invas', 'invasiv', 'inventr', 'invers', 'invert', 'investig', 'inveter', 'inviv', 'involocr', 'involucr', 'invotec', 'inzi', 'inzon', 'ioban', 'iodofor', 'ipectom', 'ipom', 'ipsilater', 'ipst', 'irian', 'iridium', 'iril', 'irregul', 'irrig', 'irrigaca', 'irrigad', 'irrigated', 'irrigaça', 'irrigoplas', 'ismu', 'isob', 'isocool', 'isodur', 'isoflex', 'isol', 'isotan', 'isotanf', 'isoterm', 'isquem', 'istmectom', 'ivascul', 'ivolution', 'jagtom', 'jagu', 'jagw', 'janel', 'jast', 'jaten', 'jazz', 'jejun', 'jejunostom', 'jock', 'joelh', 'johnson', 'joint', 'joleh', 'josephson', 'jostr', 'jotec', 'judkim', 'jugal', 'juggerknot', 'juggerknottm', 'jugul', 'juliet', 'jumb', 'junb', 'junca', 'junt', 'junç', 'jurg', 'jurgan', 'juturn', 'jvac', 'kais', 'kalix', 'kanam', 'kangaro', 'kangj', 'kans', 'karl', 'kcfw', 'keeled', 'kelled', 'kendall', 'keraring', 'ketch', 'kill', 'kimberly', 'kimny', 'kinetic', 'kirchinn', 'kirchn', 'kirchnn', 'kirschen', 'kirschin', 'kirschinn', 'kirschn', 'kirschnn', 'kirscnh', 'kirshin', 'kirshn', 'kischn', 'kisrchinn', 'kissing', 'kitc', 'knif', 'knit', 'knitted', 'knot', 'knotles', 'komet', 'kron', 'ksaw', 'kump', 'kwir', 'kyphon', 'kyphonpack', 'kyphx', 'labi', 'labioplast', 'laborator', 'laboratori', 'labr', 'labrum', 'lacp', 'lacrim', 'lact', 'lactocrew', 'lactoscrew', 'lactosorb', 'lagoftalm', 'lamb', 'lamil', 'lamin', 'laminectom', 'laminoplast', 'laminotom', 'lamiqual', 'lamitrod', 'lamitroid', 'lamnin', 'lanc', 'lancet', 'lapar', 'laparatom', 'laparosc', 'laparoscop', 'laparoscopi', 'laparoscóp', 'laparotom', 'lapfix', 'lapidu', 'lapifix', 'laproscop', 'laprosurg', 'lapsac', 'laqueaca', 'laquead', 'laranj', 'larg', 'lariat', 'laring', 'laringe', 'laringectom', 'laringofiss', 'laringoscop', 'laringoscopi', 'laringotraqueoplast', 'larytub', 'laserclast', 'laseredg', 'lasik', 'lass', 'latarjet', 'latch', 'later', 'laterognat', 'latex', 'launch', 'laureat', 'lavag', 'lcck', 'lced', 'lcomp', 'lcul', 'ldisq', 'lead', 'leaf', 'lefort', 'left', 'legacy', 'legend', 'legion', 'lehman', 'leit', 'lenght', 'length', 'lent', 'lenç', 'leonard', 'leopard', 'lepin', 'lesa', 'lesdc', 'lesion', 'leso', 'levant', 'leveen', 'level', 'levin', 'lfit', 'liber', 'liberaca', 'liberaça', 'libert', 'libr', 'lifelin', 'lifesav', 'lifespan', 'lifestent', 'lifestre', 'lift', 'ligaclip', 'ligad', 'ligamax', 'ligament', 'ligamentopex', 'ligamentoplast', 'ligamentotax', 'ligasur', 'ligfix', 'light', 'lightwav', 'ligthtguid', 'liliput', 'lilliput', 'lilluput', 'lima', 'limi', 'limit', 'linck', 'lindemann', 'linderm', 'linderman', 'lindermann', 'lindorf', 'lindorfur', 'line', 'lineag', 'linefix', 'liner', 'linfa', 'linfadectom', 'linfadenectom', 'linfangioadenograf', 'linfangiom', 'linfocel', 'linfocintilograf', 'linfonod', 'linfá', 'ling', 'lingu', 'linh', 'link', 'linox', 'linq', 'linu', 'linvatec', 'lipoaspir', 'lipodermatoescleros', 'lipodistrof', 'lipoenxert', 'lipomatos', 'liqu', 'liquiguard', 'liquoguard', 'liquor', 'liquór', 'lisac', 'lisfranc', 'listes', 'listr', 'lithoclast', 'litias', 'litotom', 'litotr', 'litotric', 'litotrips', 'litr', 'litusx', 'livew', 'livr', 'llhh', 'lmsr', 'loading', 'lobectom', 'localis', 'localiz', 'lock', 'locking', 'lockplan', 'logic', 'logicalcm', 'logicom', 'lomb', 'lombard', 'lomboperitone', 'lombotom', 'long', 'longev', 'longitud', 'longitut', 'longo', 'loop', 'looping', 'loprest', 'loqtec', 'loqteq', 'lord', 'lordo', 'lordosed', 'lordotic', 'lotu', 'lprf', 'lsenve', 'lttt', 'lubriglid', 'lumb', 'lumbarcool', 'lumen', 'lumi', 'lumin', 'luminexx', 'lunderquist', 'lung', 'lupin', 'luqu', 'lutonix', 'luxaca', 'luxaco', 'luxaça', 'lvil', 'lynx', 'lyostypt', 'lábi', 'lâmin', 'lúmen', 'maamri', 'mach', 'mache', 'macheantesx', 'macht', 'maci', 'macnam', 'macom', 'macon', 'macr', 'macrodactil', 'macropor', 'macrorrentr', 'macrotextur', 'mact', 'madibul', 'maestr', 'magdeburg', 'magic', 'magn', 'magne', 'magnific', 'magnificaça', 'magnu', 'magnum', 'magnumw', 'mahemedic', 'mahurk', 'mailman', 'mainstay', 'male', 'malea', 'maleav', 'malecot', 'maleol', 'malform', 'malformaco', 'malformaça', 'malh', 'malibu', 'malign', 'malígn', 'mamari', 'mamb', 'mamil', 'mammary', 'mamoplast', 'mamoplat', 'mamár', 'mandib', 'mandibul', 'mandibulaxp', 'mandibulectom', 'mandibulotom', 'mandril', 'mandíbul', 'mang', 'mangu', 'manguit', 'manheim', 'manifold', 'manip', 'manipul', 'manipulaca', 'manipular', 'manipulaça', 'manometr', 'manopl', 'manquit', 'mantil', 'manutenca', 'manutenç', 'manômetr', 'mape', 'maquet', 'maquin', 'marathon', 'marc', 'marcapass', 'marcaça', 'marcel', 'marche', 'marclamp', 'marflow', 'marin', 'marinr', 'mark', 'marksman', 'marlex', 'marlexbrasil', 'marrom', 'marrow', 'marse', 'marsupi', 'martel', 'martin', 'maryland', 'masculin', 'mass', 'mast', 'mastectom', 'mastergraft', 'masterteck', 'mastoid', 'mastoidectom', 'mastopex', 'mastoplast', 'matc', 'mater', 'matmidf', 'matn', 'matriderm', 'matrix', 'matrixmand', 'matrixmidfac', 'matrixneur', 'matrixrib', 'matriz', 'matryx', 'matt', 'maxbraid', 'maxbraidtm', 'maxces', 'maxdriv', 'maxicut', 'maxid', 'maxiflex', 'maxil', 'maxilectom', 'maximum', 'maxium', 'maxmor', 'maxx', 'mayfield', 'mbcp', 'mbiv', 'mcil', 'mdsupport', 'meatoplast', 'meatotom', 'mecan', 'meckel', 'mectron', 'mecân', 'medax', 'medcros', 'medi', 'mediast', 'mediastin', 'mediastinit', 'mediastinoscop', 'mediastinotom', 'medic', 'medica', 'medicament', 'mediest', 'medikit', 'medil', 'medilas', 'mediop', 'medisy', 'meditech', 'medium', 'mediun', 'mediz', 'medizin', 'medp', 'medtronic', 'medul', 'medxpac', 'megabe', 'megacolon', 'megaesofag', 'megaesôfag', 'meig', 'membr', 'membrana', 'membranad', 'memofix', 'memor', 'mencion', 'menil', 'meningocel', 'meningoencefalocel', 'menisc', 'meniscectom', 'meniscorraf', 'meniscu', 'menisectom', 'ment', 'menton', 'mentoplast', 'merc', 'mergulh', 'meridian', 'meringotom', 'merit', 'merocel', 'mesent', 'mesenter', 'mesh', 'metabol', 'metacarosc', 'metacarp', 'metacarpe', 'metacarpi', 'metacarpianostrat', 'metacarpofalange', 'metacarpofalangen', 'metad', 'metaf', 'metafis', 'metafisari', 'metafix', 'metaglen', 'metal', 'metallink', 'metastas', 'metastasectom', 'metastep', 'metatars', 'metatarsi', 'metatarsofalange', 'meth', 'meti', 'metod', 'metr', 'metroplast', 'metsembau', 'metz', 'metzembaum', 'metzembaun', 'metzenbaum', 'metál', 'metástas', 'mguard', 'mickey', 'micr', 'microa', 'microafi', 'microanastomos', 'microb', 'microbiolog', 'microbla', 'microblock', 'microcat', 'microcatet', 'microcirurg', 'microcirúrg', 'microcoil', 'microd', 'microdebrid', 'microdebridac', 'microdebridaca', 'microdebridaça', 'microdebridaçãoacc', 'microdessec', 'microdiscetom', 'microdissec', 'microdissecç', 'microeletrod', 'microenxert', 'microesf', 'microfibril', 'microfrag', 'microft', 'micrognat', 'microgu', 'microintrodu', 'microlig', 'microm', 'micromacr', 'micromalh', 'micromed', 'micrometr', 'micrometric', 'micromo', 'micromol', 'micron', 'microneurolis', 'microneurorraf', 'microneurólis', 'microny', 'microparafus', 'microparticul', 'microplac', 'microplex', 'micropoint', 'micropunç', 'microregistr', 'microscop', 'microscopi', 'microseld', 'microsen', 'microserr', 'microsharp', 'microstom', 'microthan', 'microtrac', 'microvelour', 'micrusoh', 'micrusph', 'midcab', 'middleweigh', 'middleweight', 'midifl', 'mielograf', 'mielogram', 'mielotom', 'miig', 'mikaelson', 'mikaelsson', 'mikr', 'milagr', 'mill', 'mimix', 'mincr', 'miniat', 'miniclip', 'minicut', 'minifix', 'minihip', 'minim', 'minimicr', 'miniparafus', 'minipex', 'miniplac', 'minipol', 'minitac', 'minitor', 'minntech', 'minu', 'miocard', 'miocardi', 'miocutane', 'miocutâne', 'miocárdi', 'miom', 'miomectom', 'miomuc', 'miorraf', 'miotendin', 'miotom', 'miracl', 'mirag', 'miren', 'miringoplast', 'mist', 'mistur', 'mitr', 'mitraclip', 'mitroflow', 'mixt', 'mmcort', 'mmmm', 'mmmx', 'mmrosc', 'mmtorx', 'mobicath', 'mobidisc', 'mobil', 'mobility', 'mobilizaca', 'model', 'moder', 'moderat', 'modific', 'modu', 'modul', 'modularx', 'mold', 'molda', 'monark', 'moni', 'monit', 'monitor', 'monitoraca', 'monitoracâ', 'monitoraça', 'monitoraçâ', 'monitorizaca', 'monitorizaça', 'mono', 'monoax', 'monobloc', 'monocamer', 'monocompon', 'monocortic', 'monocul', 'monocuspid', 'monof', 'monofil', 'monofilament', 'monofoc', 'monoiliac', 'monopol', 'monor', 'monorail', 'mont', 'montag', 'montat', 'montegg', 'morb', 'morcel', 'mord', 'mors', 'morsaf', 'morsel', 'morton', 'mosa', 'mosaic', 'mosaicoplast', 'moschowicz', 'motion', 'motiv', 'motor', 'movel', 'moxy', 'mozec', 'mpax', 'mpen', 'mpep', 'mpil', 'mrey', 'mucocel', 'mucos', 'mucosectom', 'muell', 'muit', 'mull', 'mullim', 'mult', 'multiax', 'multican', 'multicath', 'multidirec', 'multif', 'multifilament', 'multifit', 'multifunc', 'multifur', 'multig', 'multilamin', 'multilay', 'multilength', 'multiloop', 'multimed', 'multipack', 'multipl', 'multiplan', 'multipol', 'multiporpos', 'multiproposit', 'multipurpos', 'multisit', 'multisiti', 'multisn', 'multispan', 'multissiti', 'multissíti', 'multius', 'multiv', 'multivalv', 'multlength', 'musang', 'muscul', 'musculat', 'mustang', 'myopor', 'myotherm', 'mytr', 'médi', 'métod', 'mórb', 'múltipl', 'múscul', 'nacion', 'nail', 'naka', 'nanocros', 'nanogel', 'nanostim', 'narin', 'nariz', 'narrow', 'nasal', 'nasoangiofibrom', 'nasoendoscop', 'nasoenter', 'nasofaring', 'nasofaringe', 'nasofix', 'nasotraque', 'natal', 'natrell', 'natur', 'navalil', 'naveg', 'navegaca', 'navegaça', 'navguid', 'navien', 'naviflex', 'naviga', 'navilyst', 'navist', 'navitel', 'navx', 'ncircl', 'ndsl', 'nebuliz', 'necessit', 'neck', 'necros', 'necrotiz', 'needl', 'nefr', 'nefralg', 'nefrectom', 'nefrolitotom', 'nefrolitotrips', 'nefromax', 'nefropex', 'nefroscop', 'nefroscóp', 'nefrostom', 'nefroureterectom', 'nega', 'neobexig', 'neobon', 'neofac', 'neofix', 'neoflex', 'neogen', 'neomex', 'neon', 'neonat', 'neoplas', 'neort', 'neorth', 'neossalpingostom', 'neouretr', 'nephew', 'nephr', 'nephromax', 'nephrosoft', 'neptun', 'nerv', 'nessy', 'nest', 'neucirurg', 'neur', 'neurectom', 'neuro', 'neuroblastom', 'neurocienc', 'neurocirur', 'neurocirurg', 'neurodrain', 'neurodu', 'neurodur', 'neuroendoscop', 'neuroendoscopi', 'neuroestimul', 'neuroestimulaca', 'neuroestimulaça', 'neurofisiolog', 'neuroform', 'neuroli', 'neurolis', 'neurolog', 'neurolí', 'neurom', 'neuromedic', 'neuromonitor', 'neuron', 'neuronaveg', 'neuronavegaca', 'neuropat', 'neuropatch', 'neuroprob', 'neuroproteca', 'neuroproteç', 'neurorradiolog', 'neuroscout', 'neurosoft', 'neurotherm', 'neurotom', 'neurovascul', 'neuroveget', 'neurovent', 'neurovision', 'neurólis', 'neutr', 'nevel', 'nevralg', 'nevu', 'newpren', 'nexgen', 'nextr', 'nforc', 'ngag', 'ngog', 'ngrau', 'nicor', 'nimbl', 'nimbu', 'ninj', 'nipr', 'nistagm', 'nitfix', 'nitiniol', 'nitinl', 'nitinol', 'nitinolcom', 'nitrex', 'nitrogeni', 'nitrol', 'nivel', 'nodul', 'nodulectom', 'norm', 'nort', 'nosm', 'noss', 'notchblast', 'nottingh', 'novabon', 'novaflex', 'novation', 'novel', 'novu', 'ntlc', 'ntrodu', 'nuanc', 'nucl', 'nucle', 'nucleodisc', 'nucleotom', 'numed', 'numelock', 'numer', 'nuport', 'nurolon', 'nursing', 'nutriport', 'nutrolog', 'nuvasit', 'nuvasiv', 'nylon', 'nylotrack', 'nódul', 'oasil', 'oasy', 'obelisc', 'obes', 'oblic', 'obliq', 'obliqu', 'obliquu', 'oblong', 'oblíqu', 'obstetr', 'obstruç', 'obstruça', 'obtrix', 'obtryx', 'obtur', 'obtura', 'occifix', 'occipit', 'occipitocervic', 'occipt', 'occiput', 'occlud', 'occlutech', 'oceanu', 'ocilat', 'ocipt', 'oclu', 'oclus', 'oclusa', 'octapol', 'octrod', 'ocul', 'ocult', 'odhon', 'odontolog', 'offroad', 'offset', 'ofici', 'oftalmolog', 'ogiv', 'olecr', 'olhal', 'oliv', 'olympu', 'ombr', 'omeg', 'oment', 'omentectom', 'ommay', 'omnicut', 'omniflow', 'omnilink', 'omnispan', 'omnitech', 'oncolog', 'oncológ', 'oncontrol', 'onfalomesenter', 'onix', 'onpoint', 'onyx', 'ooforectom', 'ooforoplast', 'opac', 'opcion', 'open', 'oper', 'operat', 'operatori', 'operatór', 'opimed', 'opimu', 'opitm', 'opmenex', 'opost', 'opsit', 'optc', 'opteas', 'optetrak', 'optic', 'opticros', 'optifl', 'optiflex', 'optilen', 'optilit', 'optimu', 'option', 'optipur', 'optis', 'optise', 'optitorqu', 'optivac', 'optivolt', 'optm', 'optsens', 'oral', 'orbit', 'orbitari', 'orchestr', 'orelh', 'orga', 'organ', 'orgã', 'orient', 'orienta', 'orientaça', 'orifci', 'orifici', 'orifíci', 'orig', 'orion', 'orlight', 'orofac', 'oronas', 'orquidopex', 'orquiectom', 'orsir', 'orson', 'ortes', 'orth', 'orthoc', 'orthocord', 'orthofix', 'orthogen', 'orthogna', 'orthopaedic', 'orthopilot', 'orthos', 'orthoset', 'ortic', 'ortoc', 'ortodon', 'ortogna', 'ortoloc', 'ortolock', 'ortoped', 'ortopedicac', 'ortopéd', 'ortospin', 'ortossintes', 'orvil', 'osbc', 'oscil', 'osmium', 'osmosy', 'osron', 'osse', 'osseonflex', 'ossicul', 'oste', 'ostectom', 'osten', 'osteoartrit', 'osteobond', 'osteocondr', 'osteocondrit', 'osteocondroplast', 'osteocutane', 'osteofibr', 'osteoform', 'osteogen', 'osteoguid', 'osteointegr', 'osteolink', 'osteolock', 'osteom', 'osteomielit', 'osteomioarticul', 'osteomiocutane', 'osteomusculocutane', 'osteonil', 'osteoplas', 'osteoplast', 'osteopow', 'osteorap', 'osteoset', 'osteosintes', 'osteossintes', 'osteossíntes', 'osteostom', 'osteosynt', 'osteot', 'osteotom', 'osteovation', 'ostetic', 'ostetom', 'osti', 'ostom', 'otic', 'otim', 'otolog', 'otom', 'otorrin', 'otorrinlaringoscopi', 'outback', 'outlook', 'outr', 'oval', 'ovari', 'ovári', 'oxford', 'oxid', 'oxien', 'oxigen', 'oxigenoterap', 'oximetr', 'oxinium', 'oxinorg', 'oxiplex', 'oxitamp', 'oyplu', 'paci', 'pacific', 'pack', 'paclitaxel', 'pacot', 'pact', 'padr', 'padra', 'padul', 'paeafus', 'paed', 'pafafus', 'pafus', 'pagod', 'pain', 'painel', 'palac', 'palat', 'palatin', 'palatoplast', 'palindrom', 'palm', 'palmaz', 'palpebr', 'panarici', 'pancre', 'pancrea', 'pancreat', 'pancreatectom', 'pancreatograf', 'pancreatorraf', 'pancreatotom', 'pant', 'panth', 'panturrilh', 'papafus', 'paparell', 'papil', 'papilectom', 'papilom', 'papilot', 'papilotm', 'papilotom', 'paracardiopleg', 'paracatet', 'paracentes', 'paraestern', 'paraf', 'parafafus', 'parafarafus', 'parafin', 'parafud', 'parafuf', 'parafus', 'parafusc', 'parafusoang', 'parafusod', 'parafusommf', 'parafusoperf', 'parafusous', 'parafusp', 'paragastrostom', 'paral', 'paralel', 'paralelepiped', 'parali', 'paralis', 'parallel', 'paramicr', 'paranas', 'parasitos', 'paratireoid', 'paratireoidectom', 'paratrat', 'paraus', 'parc', 'parcial', 'parcu', 'pare', 'paread', 'pared', 'parenqu', 'parenquem', 'parenquim', 'parfus', 'pari', 'pariet', 'parieten', 'parietex', 'parilen', 'parot', 'parotide', 'parotidectom', 'part', 'partcul', 'partially', 'partic', 'particul', 'particulat', 'partn', 'parót', 'pasafus', 'paseudoartros', 'pass', 'passe', 'passiv', 'passport', 'past', 'pastilh', 'patch', 'patel', 'patelectom', 'patell', 'patent', 'path', 'pathfind', 'patolog', 'pattey', 'patti', 'paultrasom', 'paulu', 'pavilh', 'pavm', 'pccp', 'peak', 'peanut', 'pectoralil', 'pectu', 'pecutane', 'pedal', 'pedcul', 'pediasat', 'pediatr', 'pedicol', 'pedicu', 'pedicul', 'pedimax', 'pedion', 'pedr', 'pedu', 'pedícul', 'peek', 'peekplan', 'peel', 'peelabl', 'peelaway', 'pefifer', 'peitor', 'pelicul', 'peliculacole', 'peliform', 'pelv', 'pelviglossomandibulectom', 'pelvil', 'pelvipodal', 'pemberton', 'pend', 'pendul', 'peni', 'penil', 'pennig', 'pens', 'pent', 'pentaray', 'pequen', 'pequenofrag', 'perc', 'percanul', 'percev', 'perclos', 'percuflex', 'percut', 'percutan', 'percutanc', 'percutane', 'percutani', 'percutâne', 'perd', 'perenn', 'perf', 'perfect', 'perfil', 'perfix', 'perfom', 'perfomanc', 'perform', 'performanc', 'perfu', 'perfur', 'perfuraca', 'perfus', 'perfusa', 'perian', 'periarticul', 'pericarbon', 'pericard', 'pericardi', 'pericardiectom', 'pericardiocentes', 'pericardiotom', 'pericondrit', 'perid', 'perif', 'perifeirc', 'perifer', 'periform', 'perifér', 'peril', 'perilinfa', 'perimount', 'perine', 'perineorraf', 'periot', 'peripher', 'periprote', 'periproté', 'peristal', 'peristál', 'perit', 'periton', 'peritone', 'peritoni', 'peritonit', 'perk', 'permacol', 'permafix', 'perman', 'permanec', 'permanenc', 'permanent', 'permanúnc', 'permcath', 'permit', 'pern', 'perocardi', 'perol', 'peron', 'peroni', 'peroper', 'peroperatori', 'perous', 'perp', 'perpendicular', 'pers', 'persist', 'persistenc', 'person', 'perston', 'pertrocanter', 'pesad', 'pescoc', 'pescoç', 'pesquerdocistin', 'pesquis', 'pestern', 'peyroni', 'pgen', 'phant', 'phaz', 'phenom', 'phil', 'philip', 'phisi', 'phleb', 'phoenix', 'physiomesh', 'picc', 'pickston', 'picot', 'piec', 'piel', 'pielograf', 'pielolitotom', 'pieloplast', 'pielotom', 'pieloureter', 'pielovesic', 'piez', 'piezoelectr', 'piezoelectric', 'piezoeletr', 'piezoson', 'piezosonic', 'piezosson', 'piezz', 'pigtail', 'pigtain', 'pila', 'pill', 'pilor', 'piloroplast', 'pilot', 'pinacl', 'pinc', 'pinguim', 'pinn', 'pinnacl', 'pinç', 'pion', 'pione', 'pionn', 'pipelin', 'piramid', 'piranh', 'piriform', 'pirouett', 'pist', 'pistol', 'piston', 'pivot', 'plac', 'placalockingfraturacondil', 'placapb', 'plan', 'planalt', 'planej', 'plant', 'plaquet', 'plas', 'plasm', 'plasmacup', 'plasmafit', 'plast', 'plastic', 'plat', 'plataform', 'plateau', 'platibas', 'platin', 'platinum', 'plcr', 'pldd', 'pldl', 'pledg', 'plest', 'pleur', 'pleurectom', 'pleurodes', 'pleuroscop', 'pleurostom', 'plex', 'plexu', 'plic', 'plicom', 'plif', 'plifix', 'plug', 'pluscom', 'plusdriv', 'plux', 'plás', 'pmsu', 'pmsul', 'pneum', 'pneuma', 'pneumomectom', 'pneumonectom', 'pneumoperitone', 'pneumoperitoni', 'pneumostom', 'pneumotom', 'pneumotorax', 'pneumovalv', 'pocket', 'pododactil', 'point', 'polar', 'polaril', 'polectom', 'poleg', 'poli', 'poliam', 'poliax', 'poliaxialp', 'poliaxix', 'policarbonat', 'polidactil', 'polidectil', 'poliest', 'poliet', 'polietersulf', 'polietilen', 'polietilenomacr', 'poliglactin', 'polilac', 'polilác', 'polimer', 'polimér', 'polip', 'polipectom', 'polipropilen', 'polipropilenooptilen', 'poliproppilen', 'polissulf', 'polisulf', 'politetrafluoretilen', 'politraum', 'poliuret', 'polix', 'polly', 'polx', 'poly', 'polyax', 'polycryl', 'polyfib', 'polypropylen', 'polysit', 'polytech', 'ponbaionet', 'pont', 'pontiagud', 'poplite', 'poplok', 'poplíte', 'porc', 'porcin', 'porex', 'porl', 'poros', 'porot', 'porpsp', 'port', 'portatil', 'portex', 'portocath', 'portograf', 'portossistêm', 'poru', 'porç', 'porça', 'posicion', 'possibil', 'possulf', 'post', 'postectom', 'poster', 'posteri', 'posterolater', 'postop', 'postplan', 'potenc', 'potes', 'powd', 'powerasp', 'powercros', 'powered', 'powerflex', 'powerlin', 'powerlink', 'powerpicc', 'powerpick', 'powerport', 'pparafus', 'prat', 'prebent', 'prec', 'precis', 'precision', 'preclud', 'precoat', 'precurv', 'preench', 'prefac', 'preform', 'preg', 'preload', 'prelud', 'premi', 'premilen', 'premium', 'premold', 'prend', 'prenh', 'prepar', 'preparaca', 'prepuc', 'pres', 'presep', 'preserv', 'preservaca', 'preservadp', 'preservaça', 'presilh', 'press', 'pressa', 'pressfit', 'pressft', 'pressi', 'pressur', 'pressurew', 'pressuriz', 'pressurizaca', 'pressâ', 'prest', 'preston', 'pret', 'prev', 'preven', 'prevenç', 'prevision', 'priap', 'priapr', 'prim', 'primari', 'primary', 'primeadced', 'primoport', 'primum', 'primár', 'princip', 'prisma', 'prob', 'proc', 'procallu', 'proced', 'procedur', 'proceed', 'procell', 'proces', 'process', 'procidenc', 'procis', 'proclaim', 'proctocolectom', 'proctolog', 'prodigy', 'produz', 'prof', 'profemur', 'profil', 'profila', 'profli', 'profund', 'profundoplast', 'profyl', 'progama', 'progav', 'progip', 'proglid', 'prognat', 'program', 'programa', 'prograv', 'progreat', 'progres', 'progress', 'progrip', 'prohidr', 'proind', 'proj', 'projeca', 'projeç', 'prol', 'prolaps', 'prolen', 'prolong', 'promedon', 'promm', 'promr', 'promu', 'pront', 'propaten', 'propedeu', 'propel', 'proponent', 'proposit', 'propotip', 'propri', 'propul', 'prosintes', 'prospac', 'prosper', 'prosta', 'prostat', 'prostatavesiculectom', 'prostatectom', 'prostatovesiculectom', 'prosthesil', 'prostop', 'prot', 'protack', 'protasul', 'prote', 'protec', 'proteca', 'protect', 'protection', 'proteg', 'protes', 'proteç', 'proto', 'protombin', 'prototip', 'protrusi', 'protus', 'prov', 'provis', 'provisori', 'provu', 'prowl', 'prox', 'proxil', 'proxim', 'proximalim', 'proximat', 'própri', 'próstat', 'prótes', 'pseud', 'pseudartos', 'pseudartros', 'pseudoaneurism', 'pseudoartors', 'pseudoartros', 'pseudocist', 'psoic', 'ptabr', 'ptax', 'ptef', 'pterigi', 'ptos', 'puapm', 'pubic', 'puddu', 'pudu', 'puerper', 'pull', 'pullback', 'pulm', 'pulmon', 'puls', 'pulsatil', 'pulsavac', 'pulsin', 'pulver', 'pump', 'punc', 'punca', 'punch', 'punh', 'punt', 'punç', 'punça', 'punção', 'purastat', 'purif', 'purific', 'purpos', 'purstgring', 'purstring', 'purulent', 'push', 'pushlock', 'putty', 'puvel', 'pvdf', 'pwrd', 'pylor', 'pyxil', 'pâncre', 'pélv', 'pólip', 'póster', 'qion', 'quad', 'quadr', 'quadrantectom', 'quadri', 'quadricepsplast', 'quadricipit', 'quadril', 'quadripol', 'quadrox', 'quality', 'qualqu', 'quandr', 'quantum', 'quantuum', 'quartet', 'quatr', 'quattr', 'qudr', 'quebra', 'queiloplast', 'queim', 'queimad', 'queix', 'quick', 'quickcat', 'quickclip', 'quickfix', 'quickflex', 'quicksilv', 'quim', 'quimi', 'quimioembol', 'quimioterap', 'quinck', 'quint', 'quintex', 'qwikcabl', 'raab', 'racaston', 'radi', 'radiaca', 'radic', 'radiculotom', 'radicultom', 'radifocu', 'radioabl', 'radiocirurg', 'radiodiagnós', 'radiofequenc', 'radiofocu', 'radiofrequ', 'radiofrequenc', 'radiofrequênc', 'radiofreqã', 'radiograf', 'radiogui', 'radioisotop', 'radiolog', 'radioopac', 'radiopac', 'radioscop', 'radiotranpar', 'radiotransp', 'radiotranspar', 'radix', 'radufocu', 'rafiofrequenc', 'rail', 'raiz', 'ramific', 'ramificaco', 'raney', 'ranh', 'ranhur', 'ranul', 'rapamicin', 'rapid', 'rapidflap', 'rapidloc', 'raqu', 'raquidi', 'raquimedul', 'rasg', 'rasp', 'raspa', 'raulerson', 'raumedic', 'ravioll', 'rawamed', 'rayband', 'razek', 'razorcut', 'rbrt', 'rcfnp', 'rcfw', 'rcsp', 'rdrd', 'reabastec', 'reabilit', 'reabsorvi', 'reach', 'readiofrequenc', 'ready', 'reajusta', 'real', 'realinh', 'realiz', 'reanim', 'reaplic', 'reaplicaco', 'reat', 'reativ', 'reaç', 'rebaix', 'rebel', 'rebord', 'recan', 'recanalizaça', 'recap', 'recape', 'recarg', 'recarreg', 'recarrega', 'recediv', 'recep', 'recidiv', 'reciproc', 'recircul', 'recobert', 'recobr', 'recolh', 'recoloc', 'recolocaça', 'recon', 'reconst', 'reconstitu', 'reconstituica', 'reconstr', 'reconstru', 'reconstruca', 'reconstruç', 'reconstruça', 'reconstuca', 'recontruç', 'recorbert', 'recorr', 'recorta', 'rect', 'rectu', 'recu', 'recuper', 'recuperaca', 'redirecion', 'redond', 'redondosx', 'redu', 'reduca', 'reduction', 'redution', 'redux', 'reduz', 'reduç', 'reduça', 'reed', 'reelx', 'referenc', 'refil', 'reflection', 'reflex', 'reflexion', 'reflux', 'reforc', 'reforç', 'refriger', 'regal', 'regaliax', 'regener', 'regeneraca', 'regent', 'regia', 'regim', 'region', 'registr', 'regu', 'regul', 'regula', 'reimpl', 'reinf', 'reinfend', 'reinforced', 'reinforcement', 'reink', 'reinserca', 'reinserç', 'reintervenç', 'reintervença', 'reintroduca', 'reintroduç', 'rekre', 'relacion', 'relay', 'releas', 'reliamax', 'relianc', 'reliant', 'reliatack', 'reload', 'remoca', 'remodel', 'remot', 'remov', 'removi', 'remoç', 'remoça', 'renal', 'renasy', 'renegad', 'renehavil', 'rengenerex', 'renovascul', 'renu', 'reoper', 'repar', 'reparaca', 'reparaça', 'reperfus', 'reperfusa', 'repl', 'replac', 'repos', 'reposi', 'reposica', 'reposicion', 'reposiciona', 'reposiça', 'reprobon', 'resec', 'reservatori', 'reservatóri', 'resevatori', 'resfri', 'resgat', 'resin', 'resistant', 'resistenc', 'resistent', 'resolut', 'resolution', 'resolv', 'resorb', 'resorbabl', 'respons', 'respost', 'ressalt', 'ressec', 'ressecca', 'ressectoscopi', 'ressectoscópi', 'ressecç', 'ressecça', 'ressincron', 'ressincroniz', 'ressincronizaca', 'ressincronizaça', 'resson', 'ressonanc', 'ressut', 'rest', 'restaur', 'restauraça', 'restor', 'restoration', 'restoresen', 'restoreultr', 'restr', 'restri', 'restrit', 'resurfacing', 'resvet', 'retal', 'retalh', 'retan', 'retangul', 'retard', 'reten', 'retencion', 'retenç', 'retiline', 'retin', 'retinopex', 'retir', 'retocel', 'retocistocel', 'retorc', 'retorn', 'retossigmoidectom', 'retossigmoidoscop', 'retr', 'retra', 'retrac', 'retraca', 'retratil', 'retriev', 'retrievabl', 'retrobutton', 'retrodr', 'retrofaringe', 'retrofix', 'retrog', 'retrogr', 'retrop', 'retroperiton', 'retroperitone', 'retroperitoni', 'retropleg', 'retropub', 'retrorreflex', 'retroscrew', 'retrovir', 'retógr', 'reumatolog', 'reusa', 'reutiliz', 'reutiliza', 'revascular', 'revascularizaca', 'revascularizaça', 'reve', 'revers', 'reversa', 'reversi', 'revest', 'revi', 'revis', 'revisa', 'revision', 'reviso', 'revolution', 'rhbfsf', 'rhin', 'rhinocell', 'richard', 'riemann', 'righ', 'right', 'rigid', 'rigidfix', 'rigidifix', 'rigidloop', 'rigidu', 'rigifix', 'rimfit', 'rinectom', 'ring', 'rinofaring', 'rinoplast', 'rinoseptoplast', 'rinosseptoplast', 'rinotom', 'rival', 'rizotom', 'rmac', 'road', 'roadrunn', 'robin', 'robo', 'rocamed', 'rocaston', 'rocau', 'rocaw', 'roched', 'rock', 'rockscrew', 'roic', 'roit', 'rolh', 'roll', 'romb', 'rombud', 'rome', 'rondofix', 'ronyx', 'roquea', 'rosc', 'roscaesteril', 'rosen', 'rosq', 'rosqu', 'rosque', 'rosquea', 'rosqued', 'rota', 'rotabla', 'rotac', 'rotaca', 'rotaflow', 'rotaglid', 'rotalink', 'rotarex', 'rotat', 'rotating', 'rotatori', 'rotatór', 'rotavel', 'rotaw', 'rotaça', 'rote', 'roticula', 'rotul', 'rotur', 'roum', 'rounbour', 'round', 'rounded', 'roundgel', 'rout', 'royal', 'rubicon', 'ruby', 'runn', 'runthrough', 'runthrought', 'runway', 'rupt', 'rusch', 'rush', 'russ', 'rxcx', 'rxdx', 'rxtern', 'ryujin', 'rádi', 'sabr', 'sabretooth', 'sach', 'sachs', 'sack', 'sacr', 'sacrifici', 'sacroiliac', 'sacul', 'safar', 'safeguard', 'safen', 'safi', 'safl', 'saft', 'safyr', 'sagit', 'sagitari', 'said', 'saliv', 'salpingectom', 'salpingolis', 'salpingoplast', 'salt', 'sang', 'sangr', 'sanguine', 'sanp', 'saph', 'saphyr', 'sapien', 'sarm', 'sartor', 'satelec', 'savannah', 'savary', 'saxofon', 'sbca', 'sbdc', 'scab', 'scan', 'scarl', 'scarlet', 'scec', 'scept', 'schanz', 'schaz', 'schreib', 'schs', 'scitech', 'scor', 'scoreb', 'scorpi', 'scorpion', 'scpii', 'screw', 'seal', 'sealptf', 'seamgu', 'seamguard', 'seaspin', 'secc', 'secreç', 'secundari', 'secundár', 'secur', 'secureloc', 'securestrap', 'securfit', 'secç', 'seek', 'segm', 'segment', 'segmentaca', 'segmentectom', 'segu', 'segur', 'seguramultilamin', 'seguranc', 'seguranç', 'seil', 'selding', 'seldrill', 'sele', 'seleciona', 'select', 'selectr', 'selectsecur', 'selectsit', 'selet', 'seleç', 'self', 'seman', 'semedic', 'semicomplac', 'semicunh', 'semiflex', 'semilun', 'semirig', 'semitubul', 'send', 'sens', 'sensation', 'sensi', 'sensibil', 'sensor', 'sentinel', 'sentrant', 'sentu', 'separ', 'sept', 'septoplast', 'sequel', 'sequenc', 'sequent', 'sequestrectom', 'sequr', 'serf', 'seri', 'sering', 'serr', 'serril', 'serrilh', 'serviç', 'sess', 'sessa', 'setorectom', 'setormed', 'setsubiton', 'sextav', 'sextrav', 'shadow', 'shadowteck', 'shaft', 'shannon', 'shantz', 'shanz', 'shaped', 'shav', 'shavercm', 'sheath', 'sheeting', 'shell', 'shepard', 'sherman', 'sheth', 'shield', 'shielded', 'shift', 'shim', 'shinob', 'short', 'shot', 'shunt', 'shuttl', 'sided', 'sidekick', 'sidewind', 'sidewinderii', 'sigm', 'sigmoid', 'signu', 'silicon', 'silk', 'silksurfac', 'silsuc', 'silsucb', 'siltex', 'silv', 'simetr', 'simil', 'simm', 'simmim', 'simmom', 'simom', 'simon', 'simpa', 'simpactetom', 'simpas', 'simpatectom', 'simpl', 'simplac', 'simplex', 'simpá', 'simultane', 'simultâne', 'sincroniz', 'sindactil', 'sindesmos', 'sindrom', 'sinequ', 'sinergy', 'sinfis', 'sinfix', 'sinflex', 'singl', 'singleloop', 'sinostos', 'sinov', 'sinovec', 'sinovectom', 'sinovit', 'sint', 'sinte', 'sintefix', 'sintes', 'sintex', 'sintoma', 'sinu', 'sinus', 'sinusectom', 'sinusotom', 'sinéqu', 'sioxx', 'siringomiel', 'sirolimu', 'siru', 'sist', 'sistem', 'sitem', 'sitese', 'sitess', 'siti', 'situ', 'situaco', 'situaça', 'sized', 'sizing', 'skat', 'skeet', 'skimm', 'skinny', 'skintact', 'sleek', 'sleev', 'slend', 'sleve', 'slim', 'slimlin', 'sling', 'slip', 'small', 'smart', 'smartband', 'smartset', 'smartsetgmv', 'smarttouch', 'smartxid', 'smcd', 'smith', 'smmal', 'smooth', 'smth', 'snap', 'sneak', 'snow', 'soalh', 'sobr', 'sobrecarg', 'sobrecop', 'socorr', 'sodi', 'soehendr', 'soffl', 'sofradim', 'soft', 'softak', 'softfix', 'softip', 'softport', 'softw', 'solan', 'solaril', 'solent', 'solft', 'solil', 'solita', 'soloist', 'solopath', 'solu', 'soluco', 'solustapl', 'solutiom', 'soluç', 'solv', 'solyx', 'soma', 'somat', 'somm', 'sonat', 'sond', 'sonic', 'sonicbeat', 'sonicision', 'sonicweld', 'sonoc', 'sonosurg', 'sonotrod', 'sonovisi', 'soph', 'sophy', 'sophys', 'sorin', 'sosten', 'soutt', 'spac', 'spacemak', 'span', 'spasy', 'spatz', 'specify', 'spectr', 'spectrum', 'speed', 'speedband', 'speedpas', 'speedtip', 'spetzl', 'spheric', 'spherx', 'spid', 'spiderfx', 'spigcsc', 'spin', 'spinecall', 'spinecath', 'spinefix', 'spinejack', 'spineplex', 'spineway', 'spinn', 'spinplu', 'spir', 'spirit', 'splentil', 'splint', 'split', 'spoac', 'spong', 'sponge', 'spongostan', 'spotorn', 'spout', 'spray', 'sprinklr', 'sprint', 'spybit', 'spyglas', 'spyromit', 'squid', 'squirit', 'squirt', 'stab', 'stabil', 'stabiliz', 'stablemapr', 'stag', 'stan', 'stand', 'standard', 'standart', 'stapl', 'starburst', 'starbust', 'stardriv', 'starhead', 'starsil', 'start', 'starvac', 'stay', 'stayfix', 'stbx', 'steem', 'steerabl', 'steereas', 'steerocath', 'steimann', 'steinman', 'steinmann', 'stell', 'stemm', 'stemmed', 'stent', 'step', 'stepped', 'ster', 'steril', 'sterling', 'steroid', 'stery', 'stich', 'stick', 'stiff', 'stingray', 'stitch', 'stockert', 'ston', 'stop', 'stopcock', 'stopp', 'storq', 'storz', 'straight', 'strap', 'strassmann', 'stratafix', 'straton', 'stratt', 'streamlin', 'stretch', 'striped', 'stromed', 'strt', 'stryk', 'subacrom', 'subaracnoide', 'subaracnoíde', 'subaracnóide', 'subarter', 'subclav', 'subcondr', 'subcondroplast', 'subconjuntiv', 'subcultane', 'subcutane', 'subcutâne', 'subd', 'subderm', 'subfren', 'subgale', 'subiton', 'subling', 'submandibul', 'submuc', 'suboccipt', 'subsele', 'subsequ', 'subst', 'substanc', 'substitu', 'substituica', 'substituiça', 'substitut', 'substrat', 'subtal', 'subtitut', 'subton', 'subtot', 'subtr', 'subtraca', 'subtrocanteri', 'succa', 'succç', 'suction', 'suctionaid', 'sucç', 'sugiok', 'sugit', 'suin', 'sulc', 'sulfat', 'sulmedic', 'sulmesh', 'sunflow', 'sunmed', 'sunny', 'suntouch', 'superalt', 'supercili', 'supercor', 'superelas', 'superf', 'superfic', 'superfici', 'superflex', 'superi', 'superpath', 'supersele', 'supersoft', 'superview', 'suport', 'support', 'supportrak', 'supr', 'supra', 'supracodil', 'supracondile', 'supraflex', 'suprapub', 'suprapúb', 'supraren', 'suprarrenalectom', 'suprem', 'suprimed', 'surecan', 'surecros', 'suref', 'sureflex', 'surelink', 'surescan', 'suretek', 'surg', 'surgery', 'surgic', 'surgicalguid', 'surgicel', 'surgiclip', 'surgidry', 'surgifl', 'surgilav', 'surgimedik', 'surgineedl', 'surgipack', 'surgipr', 'surgisil', 'surgisleev', 'surgitim', 'surpas', 'suspens', 'suspensa', 'sust', 'sustent', 'sustentaca', 'sustenç', 'sutur', 'sutura', 'suturagor', 'suturecv', 'suturefix', 'suturetak', 'suturfix', 'swan', 'swanganz', 'swann', 'swartz', 'swift', 'swis', 'swivel', 'swivelock', 'swiverlock', 'symbotex', 'synchr', 'synchrony', 'synerg', 'synergy', 'synfix', 'synmesh', 'synre', 'syring', 'syst', 'systm', 'síndrom', 'síntes', 'tack', 'tacticath', 'tadst', 'tail', 'taimin', 'talent', 'talon', 'talu', 'tamanh', 'tamanhoxpequen', 'tamnh', 'tamp', 'tampa', 'tampon', 'tampãocentr', 'tand', 'tang', 'tantal', 'tapeded', 'tapered', 'taperfl', 'taping', 'tapipng', 'tapp', 'tapping', 'taqu', 'taquicard', 'tarac', 'targ', 'target', 'targeting', 'targon', 'taric', 'tarrax', 'tars', 'tarsometatars', 'tarsorraf', 'tatu', 'tbpc', 'tcasy', 'tcpmm', 'tcth', 'tech', 'technodry', 'technology', 'tecid', 'tecidul', 'tecn', 'tecnolog', 'tecoflex', 'tecorp', 'teen', 'teflon', 'teflonad', 'tegr', 'telemetr', 'teleperfil', 'telescop', 'telescopi', 'telfon', 'temoturb', 'temp', 'temperat', 'templat', 'tempor', 'temporari', 'temporomandibul', 'tenckhoff', 'tencyl', 'tend', 'tenda', 'tendenes', 'tendin', 'tendine', 'tendinit', 'tendo', 'tendones', 'tendril', 'tenoartroplast', 'tenodes', 'tenodesil', 'tenolig', 'tenolis', 'tenomiorraf', 'tenomiotom', 'tenoplast', 'tenorraf', 'tenosinovectom', 'tenosinovit', 'tenossinovectom', 'tenossinovit', 'tenotom', 'tension', 'tenólis', 'terap', 'terapeu', 'terapúu', 'terc', 'tercyl', 'term', 'termin', 'termist', 'termoabl', 'termolesion', 'termop', 'termoplas', 'termos', 'termoterap', 'terr', 'terrestr', 'ters', 'terum', 'terç', 'tesk', 'tesl', 'teso', 'test', 'testicul', 'testícul', 'tetralog', 'text', 'textil', 'textur', 'therapy', 'therm', 'thermed', 'thermis', 'thermocision', 'thermocool', 'thermocoupl', 'thermocut', 'thermopad', 'thin', 'thompson', 'thorametrix', 'thorombust', 'thread', 'threaded', 'threadlock', 'thrombust', 'thru', 'thscf', 'thsf', 'tial', 'tiani', 'tibi', 'tibiamax', 'tibiotars', 'ticp', 'ticron', 'tifix', 'tigerstick', 'tigertail', 'tigertap', 'tigerw', 'tighrop', 'tight', 'tightrop', 'timectom', 'timp', 'timpan', 'timpanicu', 'timpanomastoidectom', 'timpanometr', 'timpanoplast', 'timpanotom', 'tined', 'tiplan', 'tiples', 'tireodectom', 'tireogloss', 'tireoid', 'tireoide', 'tireoidectom', 'tiroplast', 'tiss', 'tisseel', 'tissu', 'tissucol', 'tissueaid', 'tissuepach', 'tissuepatch', 'tissuepath', 'tissul', 'titan', 'titane', 'titanfix', 'titanflex', 'titani', 'titaniot', 'titaniotani', 'titanium', 'titati', 'titni', 'titâni', 'titãni', 'tlab', 'tlif', 'tlifix', 'toalet', 'tobramicin', 'toggleloc', 'tomcat', 'tomofix', 'tomograf', 'tonsilectom', 'tool', 'topfix', 'topograf', 'topográf', 'torac', 'toracectom', 'toracocentes', 'toracolomb', 'toracom', 'toracoplast', 'toracostom', 'toracot', 'toracotom', 'torax', 'torci', 'torcicol', 'toric', 'torn', 'torne', 'torniquet', 'tornoz', 'tornozel', 'torocoabdom', 'torocolomb', 'torozamm', 'torqr', 'torqu', 'torqvu', 'torr', 'tort', 'torx', 'torxdriv', 'torác', 'torç', 'total', 'totally', 'totalx', 'touch', 'toxin', 'trabalh', 'trabec', 'trabecul', 'trac', 'track', 'tractip', 'tradfix', 'tragg', 'trailblaz', 'tranforam', 'tranforamid', 'trans', 'transapic', 'transbronqu', 'transbrânqu', 'transcalcane', 'transcatet', 'transcervic', 'transcistoscóp', 'transcontinent', 'transcutane', 'transdisc', 'transdu', 'transduoden', 'transe', 'transecç', 'transed', 'transend', 'transept', 'transers', 'transesfenoid', 'transesofag', 'transesquele', 'transestern', 'transetmoid', 'transexualiz', 'transfemor', 'transfenoid', 'transferenc', 'transfix', 'transfontanel', 'transforam', 'transform', 'transfus', 'transfusa', 'transfuzamm', 'transgastr', 'transhepatic', 'transitori', 'transiça', 'transjugul', 'transl', 'translabirin', 'translationrotation', 'translock', 'translomb', 'translucent', 'translum', 'transmastoide', 'transmatoíde', 'transmaxil', 'transmetacarpi', 'transmiss', 'transmuc', 'transnas', 'transnefroscóp', 'transobtur', 'transobturatori', 'transoper', 'transoperatori', 'transor', 'transosse', 'transpalatin', 'transpar', 'transpariet', 'transpl', 'transplant', 'transport', 'transpos', 'transposica', 'transposiça', 'transr', 'transrad', 'transret', 'transsept', 'transtendine', 'transtorac', 'transtrocanteri', 'transtumor', 'transureteroscop', 'transureteroscóp', 'transureterostom', 'transuretr', 'transv', 'transvag', 'transven', 'transvers', 'transversa', 'tranvers', 'tranç', 'trap', 'trapeas', 'trapeziod', 'trapezoid', 'traque', 'traquelectom', 'traqueobronqu', 'traqueocarinobronqu', 'traqueoesofag', 'traqueoplast', 'traqueoscop', 'traqueostom', 'trassept', 'trat', 'tratam', 'tratament', 'tratamentg', 'tratamet', 'traufix', 'traum', 'trauma', 'traumat', 'traumatolog', 'traumed', 'traumin', 'traumá', 'trautec', 'trav', 'travament', 'travess', 'travi', 'traxces', 'traxil', 'traxtion', 'tray', 'traç', 'traça', 'traçã', 'treasur', 'trefin', 'trek', 'trelumin', 'tren', 'treovanc', 'trep', 'trepan', 'trepanaca', 'trepanaça', 'treu', 'trev', 'triad', 'triangul', 'triax', 'tricalci', 'tricusid', 'tricuspid', 'tricut', 'trident', 'tridimens', 'trifect', 'trifit', 'trifosfat', 'trigem', 'trigeme', 'trigemi', 'trigen', 'trigg', 'trignum', 'trigême', 'trigêmi', 'trilh', 'trillianc', 'trilobul', 'trilock', 'trilogy', 'trilok', 'trim', 'trimaleol', 'trimodul', 'triniflex', 'trinity', 'tripl', 'triprong', 'trisegmentectom', 'trissegmentectom', 'tritanium', 'triun', 'trivantag', 'trivers', 'triângul', 'troc', 'trocan', 'trocant', 'trocanter', 'trocanteri', 'trocart', 'trocat', 'troch', 'troconcon', 'trocont', 'tromb', 'trombectom', 'trombin', 'tromboembolectom', 'tromboendarterectom', 'tromboli', 'trombolis', 'tromboplastin', 'trombos', 'tronc', 'troncant', 'truclos', 'trucor', 'truefixation', 'truelock', 'truepas', 'truetom', 'truform', 'trunk', 'truwav', 'tryptik', 'tryptikc', 'tscf', 'tscmg', 'tsfb', 'tsnc', 'tsunam', 'ttani', 'ttiani', 'ttlin', 'ttlu', 'ttptm', 'tubinectom', 'tubing', 'tubofiix', 'tubofix', 'tubul', 'tugsteni', 'tulip', 'tullip', 'tumor', 'tumorectom', 'tunel', 'tunelaca', 'tuneliz', 'tungsteni', 'tunnelbutton', 'tuohy', 'turbinectom', 'turbinoplast', 'turbovac', 'turnpik', 'turp', 'twin', 'twinfix', 'twinloop', 'twist', 'twistcut', 'tyshak', 'tânic', 'técn', 'têmpor', 'tíbi', 'tópic', 'tórac', 'tórax', 'túmpor', 'túnel', 'ucentum', 'uhmp', 'uhmwp', 'uhwmp', 'ukesbz', 'ulcer', 'ulrasson', 'ulson', 'ultimast', 'ultimat', 'ultimum', 'ultipaq', 'ultr', 'ultra', 'ultrabraid', 'ultrabutton', 'ultracision', 'ultraflex', 'ultrafo', 'ultralev', 'ultrapow', 'ultrapr', 'ultrash', 'ultrasicion', 'ultrasoft', 'ultrasom', 'ultrason', 'ultrassom', 'ultrasson', 'ultrassongraf', 'ultrassonograf', 'ultrassôn', 'ultratitani', 'ultratom', 'ultravers', 'ultraxx', 'umbilic', 'umer', 'umeru', 'unballon', 'unballoon', 'undad', 'ungue', 'unhooded', 'unia', 'uniax', 'unic', 'unicamer', 'unicompartiment', 'unicortic', 'unid', 'unidad', 'unidirec', 'unidirecon', 'unidriv', 'unify', 'unigraft', 'unil', 'unilat', 'unilate', 'unilater', 'unimaleol', 'unimax', 'unimed', 'union', 'uniplan', 'uniplant', 'uniplu', 'unipol', 'uniqu', 'unistep', 'unitap', 'univ', 'univers', 'uphold', 'urac', 'ureas', 'uresil', 'uret', 'ureter', 'ureteralv', 'ureterectom', 'ureterocel', 'ureteroenteroplast', 'ureteroenterostom', 'ureteroileocistostom', 'ureteroileostom', 'ureterointest', 'ureterolis', 'ureterolitotom', 'ureterolitotrips', 'ureteroplast', 'ureteroren', 'ureterorenoscopi', 'ureterorrenolitotom', 'ureterorrenolitotrips', 'ureteroscop', 'ureteroscopi', 'ureteroscóp', 'ureterostom', 'ureterotom', 'ureteroureterocistoneostom', 'ureteroureterostom', 'uretr', 'uretroplast', 'uretroscop', 'uretrostom', 'uretrotom', 'urgenc', 'urin', 'urinari', 'urinár', 'urni', 'urodrain', 'urolog', 'urológ', 'uromax', 'uropas', 'uropec', 'urovac', 'uter', 'uterin', 'utiliz', 'utilizaca', 'utilizaça', 'uvulopalatofaringoplast', 'vacu', 'vadu', 'vagin', 'vagotom', 'vale', 'valg', 'valgu', 'valiant', 'valv', 'valvopat', 'valvoplast', 'valvul', 'valvularaor', 'valvuloplast', 'vamp', 'vanguard', 'vantril', 'vapor', 'vaporiz', 'vapr', 'varet', 'varg', 'vari', 'varia', 'variac', 'variax', 'varicocel', 'variosurg', 'variotip', 'variz', 'varizac', 'varizaca', 'vasc', 'vascu', 'vascugraft', 'vascul', 'vascular', 'vascushunt', 'vascutrak', 'vasectom', 'vavul', 'vaxcel', 'vbos', 'vectr', 'veel', 'veloc', 'velocity', 'velox', 'veloz', 'velud', 'velum', 'venatech', 'vendtricul', 'venograf', 'venogram', 'vent', 'ventil', 'ventilac', 'ventilaca', 'ventilaça', 'ventr', 'ventralex', 'ventralight', 'ventri', 'ventric', 'ventricul', 'ventriculectom', 'ventriculoatriostom', 'ventriculograf', 'ventriculoperion', 'ventriculostom', 'ventrícul', 'ventu', 'ventur', 'vercis', 'verd', 'veres', 'vermelh', 'veron', 'veronafix', 'veronail', 'verr', 'verrat', 'vers', 'versa', 'versabond', 'versacor', 'versafit', 'versafitcup', 'versalock', 'versaon', 'versapoint', 'versaport', 'versatil', 'versy', 'vert', 'verteb', 'vertebr', 'vertebril', 'vertebroplast', 'vertex', 'vertic', 'vertyfix', 'vesaport', 'vesic', 'vesicul', 'vesiculectom', 'vest', 'vetebroplast', 'vexim', 'vgbr', 'viabahn', 'viabhn', 'viacath', 'viatrac', 'vicc', 'vicios', 'vicryl', 'victory', 'vide', 'videoartroscop', 'videocirurg', 'videoendoscop', 'videol', 'videolapar', 'videolaparosc', 'videolaparoscop', 'videolaparosocop', 'videopex', 'videotoracoscop', 'view', 'vigenc', 'viking', 'vinh', 'violet', 'vipiblock', 'viral', 'virtual', 'viscer', 'viscoelas', 'viscos', 'visibl', 'visiofla', 'vision', 'visit', 'vist', 'visual', 'vitagraft', 'vital', 'vitalium', 'vitallium', 'vitelen', 'vitre', 'vitrectom', 'vitu', 'vivan', 'vivanomed', 'vivanotec', 'vivaquad', 'vloc', 'vlox', 'vltm', 'void', 'volfix', 'volkmann', 'volmed', 'volt', 'volum', 'volv', 'vomed', 'vortek', 'vortx', 'voyag', 'vrtdx', 'vtek', 'vulcan', 'vulv', 'vulvectom', 'vypr', 'válvul', 'víde', 'wagn', 'wall', 'wallfl', 'wallflex', 'wallstend', 'wallstent', 'wand', 'watchman', 'wcab', 'webst', 'wedg', 'weil', 'wellport', 'wepmann', 'werb', 'wertheim', 'werthein', 'whatt', 'whisp', 'whit', 'whitefo', 'widelin', 'width', 'will', 'wilm', 'wilson', 'wiltex', 'wingspan', 'wireguided', 'wirex', 'wiseguid', 'with', 'wolf', 'wrap', 'wrist', 'wurzbrug', 'xact', 'xcalib', 'xcel', 'xcmx', 'xenmatrix', 'xgrd', 'xienc', 'xkpm', 'xlas', 'xlif', 'xlim', 'xlong', 'xomed', 'xpedition', 'xpequen', 'xperienc', 'xpur', 'xsaf', 'xsupp', 'xtend', 'xtendobutton', 'xtralok', 'xtrasoft', 'xtrem', 'xtremiti', 'xwir', 'yasargil', 'yellow', 'zamm', 'zammivac', 'zargon', 'zbil', 'zebr', 'zecry', 'zenith', 'zenk', 'zeppelin', 'zflow', 'zigoma', 'zigomá', 'zilv', 'zimm', 'zinant', 'zing', 'zinnant', 'ziploop', 'zipw', 'zipwiretm', 'zircon', 'zirconn', 'zodiac', 'ácid', 'ângul', 'êmer', 'ênic', 'òsse', 'órbit', 'ósse', 'óste', 'úmer', 'únic']\n"
     ]
    }
   ],
   "source": [
    "x = list(CV.vocabulary_.keys())\n",
    "x.sort()\n",
    "print(x)"
   ]
  },
  {
   "cell_type": "code",
   "execution_count": null,
   "metadata": {},
   "outputs": [],
   "source": [
    "from sklearn.feature_extraction.text import TfidfTransformer"
   ]
  },
  {
   "cell_type": "code",
   "execution_count": null,
   "metadata": {},
   "outputs": [],
   "source": [
    "tfidf_transformer = TfidfTransformer(smooth_idf=True,use_idf=True)"
   ]
  },
  {
   "cell_type": "code",
   "execution_count": null,
   "metadata": {},
   "outputs": [],
   "source": [
    "tfidf_transformer.fit(word_count_vector)"
   ]
  },
  {
   "cell_type": "code",
   "execution_count": null,
   "metadata": {},
   "outputs": [],
   "source": [
    "tf_idf_vector = tfidf_transformer.transform(CV.transform(docs))"
   ]
  },
  {
   "cell_type": "code",
   "execution_count": null,
   "metadata": {},
   "outputs": [],
   "source": [
    "tf_idf_vector.shape"
   ]
  },
  {
   "cell_type": "code",
   "execution_count": null,
   "metadata": {},
   "outputs": [],
   "source": [
    "#id_pdc = filter_data[\"ID_PDC\"].astype(float).values"
   ]
  },
  {
   "cell_type": "code",
   "execution_count": null,
   "metadata": {},
   "outputs": [],
   "source": [
    "id_cat = filter_data[\"cat\"].astype(float).values"
   ]
  },
  {
   "cell_type": "code",
   "execution_count": null,
   "metadata": {},
   "outputs": [],
   "source": [
    "filter_data.shape[0]"
   ]
  },
  {
   "cell_type": "code",
   "execution_count": null,
   "metadata": {},
   "outputs": [],
   "source": [
    "#id_pdc_vector = np.reshape(id_pdc,(filter_data.shape[0],1))\n",
    "id_cat_vector = np.reshape(id_cat,(filter_data.shape[0],1))"
   ]
  },
  {
   "cell_type": "code",
   "execution_count": null,
   "metadata": {},
   "outputs": [],
   "source": [
    "#id_pdc_vector"
   ]
  },
  {
   "cell_type": "code",
   "execution_count": null,
   "metadata": {},
   "outputs": [],
   "source": [
    "#tf_idf_vector = scipy.sparse.hstack([id_pdc_vector,tf_idf_vector],format=\"csr\") #.toarray()  "
   ]
  },
  {
   "cell_type": "code",
   "execution_count": null,
   "metadata": {},
   "outputs": [],
   "source": [
    "tf_idf_vector = scipy.sparse.hstack([id_cat_vector,tf_idf_vector],format=\"csr\") #.toarray()  "
   ]
  },
  {
   "cell_type": "code",
   "execution_count": null,
   "metadata": {},
   "outputs": [],
   "source": [
    "tf_idf_vector.shape"
   ]
  },
  {
   "cell_type": "code",
   "execution_count": null,
   "metadata": {},
   "outputs": [],
   "source": [
    "import scipy.sparse\n",
    "\n",
    "#scipy.sparse.save_npz(\"corpus_PROCEDIMENTO_PRINCIPAL.npz\", tf_idf_vector)\n",
    "scipy.sparse.save_npz(\"corpus_\"+filename+\".npz\", tf_idf_vector)\n",
    "#scipy.sparse.save_npz(\"corpus_DESCRICAO_PROCEDIMENTO_PRINCIPAL.npz\", tf_idf_vector)"
   ]
  },
  {
   "cell_type": "code",
   "execution_count": null,
   "metadata": {},
   "outputs": [],
   "source": [
    "tf_idf_vector[0,0]"
   ]
  },
  {
   "cell_type": "code",
   "execution_count": null,
   "metadata": {},
   "outputs": [],
   "source": [
    "data[data[\"ANVISA_DEF\"]==\"-\"].shape"
   ]
  },
  {
   "cell_type": "code",
   "execution_count": null,
   "metadata": {},
   "outputs": [],
   "source": [
    "data.shape"
   ]
  },
  {
   "cell_type": "code",
   "execution_count": null,
   "metadata": {},
   "outputs": [],
   "source": []
  }
 ],
 "metadata": {
  "kernelspec": {
   "display_name": "Python 3",
   "language": "python",
   "name": "python3"
  },
  "language_info": {
   "codemirror_mode": {
    "name": "ipython",
    "version": 3
   },
   "file_extension": ".py",
   "mimetype": "text/x-python",
   "name": "python",
   "nbconvert_exporter": "python",
   "pygments_lexer": "ipython3",
   "version": "3.6.5"
  }
 },
 "nbformat": 4,
 "nbformat_minor": 2
}
