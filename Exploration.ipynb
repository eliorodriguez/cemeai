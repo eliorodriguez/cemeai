{
 "cells": [
  {
   "cell_type": "code",
   "execution_count": 14,
   "metadata": {},
   "outputs": [],
   "source": [
    "import pandas as pd\n",
    "import spacy\n",
    "spacy_nlp = spacy.load('pt')\n",
    "spacy_stopwords = spacy.lang.pt.STOP_WORDS"
   ]
  },
  {
   "cell_type": "code",
   "execution_count": null,
   "metadata": {},
   "outputs": [],
   "source": []
  },
  {
   "cell_type": "code",
   "execution_count": 16,
   "metadata": {},
   "outputs": [],
   "source": [
    "import numpy\n",
    "import sys\n",
    "numpy.set_printoptions(threshold=sys.maxsize)"
   ]
  },
  {
   "cell_type": "code",
   "execution_count": 17,
   "metadata": {},
   "outputs": [
    {
     "name": "stderr",
     "output_type": "stream",
     "text": [
      "/home/elio/anaconda3/lib/python3.6/site-packages/IPython/core/interactiveshell.py:2785: DtypeWarning: Columns (0,7) have mixed types. Specify dtype option on import or set low_memory=False.\n",
      "  interactivity=interactivity, compiler=compiler, result=result)\n"
     ]
    }
   ],
   "source": [
    "data = pd.read_csv(\"dataset_bionexo.csv\",encoding='latin')"
   ]
  },
  {
   "cell_type": "code",
   "execution_count": 18,
   "metadata": {},
   "outputs": [
    {
     "data": {
      "text/html": [
       "<div>\n",
       "<style scoped>\n",
       "    .dataframe tbody tr th:only-of-type {\n",
       "        vertical-align: middle;\n",
       "    }\n",
       "\n",
       "    .dataframe tbody tr th {\n",
       "        vertical-align: top;\n",
       "    }\n",
       "\n",
       "    .dataframe thead th {\n",
       "        text-align: right;\n",
       "    }\n",
       "</style>\n",
       "<table border=\"1\" class=\"dataframe\">\n",
       "  <thead>\n",
       "    <tr style=\"text-align: right;\">\n",
       "      <th></th>\n",
       "      <th>ID_PDC</th>\n",
       "      <th>ESPECIALIDADE</th>\n",
       "      <th>PROCEDIMENTO_PRINCIPAL</th>\n",
       "      <th>DESCRICAO_DO_PRODUTO</th>\n",
       "      <th>ANVISA</th>\n",
       "      <th>MARCA</th>\n",
       "      <th>REFERENCIA</th>\n",
       "      <th>PRECO</th>\n",
       "      <th>ANVISA_DEF</th>\n",
       "      <th>GMDN_TERMO</th>\n",
       "    </tr>\n",
       "  </thead>\n",
       "  <tbody>\n",
       "    <tr>\n",
       "      <th>0</th>\n",
       "      <td>174274</td>\n",
       "      <td>SISTEMA GENITAL E REPRODUTOR FEMININO</td>\n",
       "      <td>HISTERECTOMIA TOTAL LAPAROSCOPICA COM ANEXECTO...</td>\n",
       "      <td>MANIPULADOR UTERINO CLEARVIEW 7CM</td>\n",
       "      <td>80517980053</td>\n",
       "      <td>CLINICAL INNOVATIONS</td>\n",
       "      <td>UM700</td>\n",
       "      <td>9625</td>\n",
       "      <td>-</td>\n",
       "      <td>uterine manipulator, single-use</td>\n",
       "    </tr>\n",
       "    <tr>\n",
       "      <th>1</th>\n",
       "      <td>176721</td>\n",
       "      <td>SISTEMA MUSCULO-ESQUELETICO E ARTICULAÇÕES</td>\n",
       "      <td>LESÃO  AGUDA DE LIGAMENTO COLATERAL DO JOELHO ...</td>\n",
       "      <td>ENXERTO OSSEO EM BLOCO 6 CC 2 X 3 CC ATTRAX PUTTY</td>\n",
       "      <td>80074640024</td>\n",
       "      <td>NUVASIVE</td>\n",
       "      <td>5018006</td>\n",
       "      <td>6875</td>\n",
       "      <td>attrax putty nuvasive nuvasive inc</td>\n",
       "      <td>bone matrix implant, synthetic</td>\n",
       "    </tr>\n",
       "    <tr>\n",
       "      <th>2</th>\n",
       "      <td>181909</td>\n",
       "      <td>METODOS DIAGNOSTICOS POR IMAGEM</td>\n",
       "      <td>EMBOLIZAÇÃO DE ANEURISMA CEREBRAL POR OCLUSÃO ...</td>\n",
       "      <td>INTRODUTOR 6F 12CM ULTIMUM</td>\n",
       "      <td>10332340107</td>\n",
       "      <td>ST JUDE</td>\n",
       "      <td>407694</td>\n",
       "      <td>1375</td>\n",
       "      <td>-</td>\n",
       "      <td>vascular catheter introduction set</td>\n",
       "    </tr>\n",
       "    <tr>\n",
       "      <th>3</th>\n",
       "      <td>183381</td>\n",
       "      <td>SISTEMA DIGESTIVO E ANEXOS</td>\n",
       "      <td>PANCREATO-DUODENECTOMIA COM LINFADENECTOMIA [ ...</td>\n",
       "      <td>PINÇA LIGA SURE 5MM</td>\n",
       "      <td>10349000188</td>\n",
       "      <td>VALLEYLAB</td>\n",
       "      <td>LS1500</td>\n",
       "      <td>33687.5</td>\n",
       "      <td>-</td>\n",
       "      <td>-</td>\n",
       "    </tr>\n",
       "    <tr>\n",
       "      <th>4</th>\n",
       "      <td>183381</td>\n",
       "      <td>SISTEMA DIGESTIVO E ANEXOS</td>\n",
       "      <td>PANCREATO-DUODENECTOMIA COM LINFADENECTOMIA [ ...</td>\n",
       "      <td>TROCATER DESCARTAVEL 12.5X100MM</td>\n",
       "      <td>80082910071</td>\n",
       "      <td>HANGZHOU KANGJI MEDI</td>\n",
       "      <td>101Y524</td>\n",
       "      <td>2062.5</td>\n",
       "      <td>trocarter descartavel hangzhou kangji medical ...</td>\n",
       "      <td>-</td>\n",
       "    </tr>\n",
       "  </tbody>\n",
       "</table>\n",
       "</div>"
      ],
      "text/plain": [
       "   ID_PDC                               ESPECIALIDADE  \\\n",
       "0  174274       SISTEMA GENITAL E REPRODUTOR FEMININO   \n",
       "1  176721  SISTEMA MUSCULO-ESQUELETICO E ARTICULAÇÕES   \n",
       "2  181909             METODOS DIAGNOSTICOS POR IMAGEM   \n",
       "3  183381                  SISTEMA DIGESTIVO E ANEXOS   \n",
       "4  183381                  SISTEMA DIGESTIVO E ANEXOS   \n",
       "\n",
       "                              PROCEDIMENTO_PRINCIPAL  \\\n",
       "0  HISTERECTOMIA TOTAL LAPAROSCOPICA COM ANEXECTO...   \n",
       "1  LESÃO  AGUDA DE LIGAMENTO COLATERAL DO JOELHO ...   \n",
       "2  EMBOLIZAÇÃO DE ANEURISMA CEREBRAL POR OCLUSÃO ...   \n",
       "3  PANCREATO-DUODENECTOMIA COM LINFADENECTOMIA [ ...   \n",
       "4  PANCREATO-DUODENECTOMIA COM LINFADENECTOMIA [ ...   \n",
       "\n",
       "                                DESCRICAO_DO_PRODUTO       ANVISA  \\\n",
       "0                  MANIPULADOR UTERINO CLEARVIEW 7CM  80517980053   \n",
       "1  ENXERTO OSSEO EM BLOCO 6 CC 2 X 3 CC ATTRAX PUTTY  80074640024   \n",
       "2                         INTRODUTOR 6F 12CM ULTIMUM  10332340107   \n",
       "3                                PINÇA LIGA SURE 5MM  10349000188   \n",
       "4                    TROCATER DESCARTAVEL 12.5X100MM  80082910071   \n",
       "\n",
       "                  MARCA REFERENCIA    PRECO  \\\n",
       "0  CLINICAL INNOVATIONS      UM700     9625   \n",
       "1              NUVASIVE    5018006     6875   \n",
       "2               ST JUDE     407694     1375   \n",
       "3             VALLEYLAB     LS1500  33687.5   \n",
       "4  HANGZHOU KANGJI MEDI    101Y524   2062.5   \n",
       "\n",
       "                                          ANVISA_DEF  \\\n",
       "0                                                  -   \n",
       "1                 attrax putty nuvasive nuvasive inc   \n",
       "2                                                  -   \n",
       "3                                                  -   \n",
       "4  trocarter descartavel hangzhou kangji medical ...   \n",
       "\n",
       "                           GMDN_TERMO  \n",
       "0     uterine manipulator, single-use  \n",
       "1      bone matrix implant, synthetic  \n",
       "2  vascular catheter introduction set  \n",
       "3                                   -  \n",
       "4                                   -  "
      ]
     },
     "execution_count": 18,
     "metadata": {},
     "output_type": "execute_result"
    }
   ],
   "source": [
    "data.head()"
   ]
  },
  {
   "cell_type": "code",
   "execution_count": 5,
   "metadata": {},
   "outputs": [
    {
     "data": {
      "text/plain": [
       "(674719, 10)"
      ]
     },
     "execution_count": 5,
     "metadata": {},
     "output_type": "execute_result"
    }
   ],
   "source": [
    "data.shape"
   ]
  },
  {
   "cell_type": "markdown",
   "metadata": {},
   "source": [
    "### Data with GMDM"
   ]
  },
  {
   "cell_type": "code",
   "execution_count": 20,
   "metadata": {},
   "outputs": [],
   "source": [
    "filter_data = data[(data[\"GMDN_TERMO\"].notnull()) & (data[\"GMDN_TERMO\"] != \"-\")]"
   ]
  },
  {
   "cell_type": "code",
   "execution_count": 21,
   "metadata": {},
   "outputs": [
    {
     "data": {
      "text/plain": [
       "(292176, 10)"
      ]
     },
     "execution_count": 21,
     "metadata": {},
     "output_type": "execute_result"
    }
   ],
   "source": [
    "filter_data.shape"
   ]
  },
  {
   "cell_type": "code",
   "execution_count": 143,
   "metadata": {},
   "outputs": [],
   "source": []
  },
  {
   "cell_type": "code",
   "execution_count": 147,
   "metadata": {},
   "outputs": [],
   "source": []
  },
  {
   "cell_type": "code",
   "execution_count": null,
   "metadata": {},
   "outputs": [],
   "source": []
  },
  {
   "cell_type": "code",
   "execution_count": 22,
   "metadata": {},
   "outputs": [],
   "source": [
    "corpus = filter_data[\"PROCEDIMENTO_PRINCIPAL\"]\n",
    "#corpus_b = filter_data[\"DESCRICAO_DO_PRODUTO\"]\n",
    "#corpus_c = filter_data[\"PROCEDIMENTO_PRINCIPAL\"] + \" \" + filter_data[\"DESCRICAO_DO_PRODUTO\"]"
   ]
  },
  {
   "cell_type": "code",
   "execution_count": 24,
   "metadata": {},
   "outputs": [
    {
     "data": {
      "text/plain": [
       "0    HISTERECTOMIA TOTAL LAPAROSCOPICA COM ANEXECTO...\n",
       "1    LESÃO  AGUDA DE LIGAMENTO COLATERAL DO JOELHO ...\n",
       "2    EMBOLIZAÇÃO DE ANEURISMA CEREBRAL POR OCLUSÃO ...\n",
       "5    SIMPATECTOMIA POR VIDEOTORACOSCOPIA [ NERVOS P...\n",
       "7    SISTEMA DE DERIVAÇÃO VENTRICULAR INTERNA COM V...\n",
       "Name: PROCEDIMENTO_PRINCIPAL, dtype: object"
      ]
     },
     "execution_count": 24,
     "metadata": {},
     "output_type": "execute_result"
    }
   ],
   "source": [
    "corpus.head()"
   ]
  },
  {
   "cell_type": "code",
   "execution_count": 28,
   "metadata": {},
   "outputs": [],
   "source": [
    "from sklearn.feature_extraction.text import CountVectorizer"
   ]
  },
  {
   "cell_type": "code",
   "execution_count": 29,
   "metadata": {},
   "outputs": [],
   "source": [
    "#get the text column \n",
    "docs = corpus.tolist()"
   ]
  },
  {
   "cell_type": "code",
   "execution_count": null,
   "metadata": {},
   "outputs": [],
   "source": []
  },
  {
   "cell_type": "code",
   "execution_count": 30,
   "metadata": {},
   "outputs": [],
   "source": [
    "#create a vocabulary of words, \n",
    "#ignore words that appear in 85% of documents, \n",
    "#eliminate stop words\n",
    "CV = CountVectorizer(max_df=0.85,stop_words=spacy_stopwords,lowercase=True)"
   ]
  },
  {
   "cell_type": "code",
   "execution_count": 31,
   "metadata": {},
   "outputs": [],
   "source": [
    "word_count_vector = CV.fit_transform(docs)"
   ]
  },
  {
   "cell_type": "code",
   "execution_count": 173,
   "metadata": {},
   "outputs": [],
   "source": [
    "#word_count_vector_a.toarray()"
   ]
  },
  {
   "cell_type": "code",
   "execution_count": 32,
   "metadata": {},
   "outputs": [],
   "source": [
    "from sklearn.feature_extraction.text import TfidfTransformer"
   ]
  },
  {
   "cell_type": "code",
   "execution_count": 33,
   "metadata": {},
   "outputs": [],
   "source": [
    "tfidf_transformer = TfidfTransformer(smooth_idf=True,use_idf=True)"
   ]
  },
  {
   "cell_type": "code",
   "execution_count": 34,
   "metadata": {},
   "outputs": [
    {
     "data": {
      "text/plain": [
       "TfidfTransformer(norm='l2', smooth_idf=True, sublinear_tf=False, use_idf=True)"
      ]
     },
     "execution_count": 34,
     "metadata": {},
     "output_type": "execute_result"
    }
   ],
   "source": [
    "tfidf_transformer.fit(word_count_vector)"
   ]
  },
  {
   "cell_type": "code",
   "execution_count": 35,
   "metadata": {},
   "outputs": [],
   "source": [
    "tf_idf_vector = tfidf_transformer.transform(CV.transform(docs))"
   ]
  },
  {
   "cell_type": "code",
   "execution_count": 46,
   "metadata": {},
   "outputs": [
    {
     "data": {
      "text/plain": [
       "(292176, 3098)"
      ]
     },
     "execution_count": 46,
     "metadata": {},
     "output_type": "execute_result"
    }
   ],
   "source": [
    "tf_idf_vector.shape"
   ]
  },
  {
   "cell_type": "code",
   "execution_count": 41,
   "metadata": {},
   "outputs": [],
   "source": []
  },
  {
   "cell_type": "code",
   "execution_count": null,
   "metadata": {},
   "outputs": [],
   "source": []
  },
  {
   "cell_type": "code",
   "execution_count": null,
   "metadata": {},
   "outputs": [],
   "source": []
  },
  {
   "cell_type": "code",
   "execution_count": null,
   "metadata": {},
   "outputs": [],
   "source": []
  },
  {
   "cell_type": "code",
   "execution_count": null,
   "metadata": {},
   "outputs": [],
   "source": []
  },
  {
   "cell_type": "code",
   "execution_count": null,
   "metadata": {},
   "outputs": [],
   "source": []
  }
 ],
 "metadata": {
  "kernelspec": {
   "display_name": "Python 3",
   "language": "python",
   "name": "python3"
  },
  "language_info": {
   "codemirror_mode": {
    "name": "ipython",
    "version": 3
   },
   "file_extension": ".py",
   "mimetype": "text/x-python",
   "name": "python",
   "nbconvert_exporter": "python",
   "pygments_lexer": "ipython3",
   "version": "3.6.5"
  }
 },
 "nbformat": 4,
 "nbformat_minor": 2
}
